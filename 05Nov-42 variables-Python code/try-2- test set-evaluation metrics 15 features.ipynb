{
 "cells": [
  {
   "cell_type": "code",
   "execution_count": 1,
   "metadata": {},
   "outputs": [
    {
     "name": "stderr",
     "output_type": "stream",
     "text": [
      "In C:\\Users\\93513\\Anaconda3\\lib\\site-packages\\matplotlib\\mpl-data\\stylelib\\_classic_test.mplstyle: \n",
      "The savefig.frameon rcparam was deprecated in Matplotlib 3.1 and will be removed in 3.3.\n",
      "In C:\\Users\\93513\\Anaconda3\\lib\\site-packages\\matplotlib\\mpl-data\\stylelib\\_classic_test.mplstyle: \n",
      "The verbose.level rcparam was deprecated in Matplotlib 3.1 and will be removed in 3.3.\n",
      "In C:\\Users\\93513\\Anaconda3\\lib\\site-packages\\matplotlib\\mpl-data\\stylelib\\_classic_test.mplstyle: \n",
      "The verbose.fileo rcparam was deprecated in Matplotlib 3.1 and will be removed in 3.3.\n"
     ]
    },
    {
     "data": {
      "text/html": [
       "<div>\n",
       "<style scoped>\n",
       "    .dataframe tbody tr th:only-of-type {\n",
       "        vertical-align: middle;\n",
       "    }\n",
       "\n",
       "    .dataframe tbody tr th {\n",
       "        vertical-align: top;\n",
       "    }\n",
       "\n",
       "    .dataframe thead th {\n",
       "        text-align: right;\n",
       "    }\n",
       "</style>\n",
       "<table border=\"1\" class=\"dataframe\">\n",
       "  <thead>\n",
       "    <tr style=\"text-align: right;\">\n",
       "      <th></th>\n",
       "      <th>No</th>\n",
       "      <th>IS</th>\n",
       "      <th>Age</th>\n",
       "      <th>NeuP</th>\n",
       "      <th>NeuC</th>\n",
       "      <th>MonP</th>\n",
       "      <th>LymP</th>\n",
       "      <th>Hgb</th>\n",
       "      <th>RDW-CV</th>\n",
       "      <th>MCV</th>\n",
       "      <th>MCHC</th>\n",
       "      <th>UA</th>\n",
       "      <th>CG</th>\n",
       "      <th>AKP</th>\n",
       "      <th>TP</th>\n",
       "      <th>TC</th>\n",
       "      <th>HDL-C</th>\n",
       "    </tr>\n",
       "  </thead>\n",
       "  <tbody>\n",
       "    <tr>\n",
       "      <th>2091</th>\n",
       "      <td>7839</td>\n",
       "      <td>0</td>\n",
       "      <td>54</td>\n",
       "      <td>44.9</td>\n",
       "      <td>2.21</td>\n",
       "      <td>3.2</td>\n",
       "      <td>49.0</td>\n",
       "      <td>135</td>\n",
       "      <td>13.6</td>\n",
       "      <td>100.0</td>\n",
       "      <td>314</td>\n",
       "      <td>190</td>\n",
       "      <td>26.6</td>\n",
       "      <td>75</td>\n",
       "      <td>70.1</td>\n",
       "      <td>5.45</td>\n",
       "      <td>1.86</td>\n",
       "    </tr>\n",
       "    <tr>\n",
       "      <th>2092</th>\n",
       "      <td>306237</td>\n",
       "      <td>1</td>\n",
       "      <td>77</td>\n",
       "      <td>75.3</td>\n",
       "      <td>5.34</td>\n",
       "      <td>3.8</td>\n",
       "      <td>17.0</td>\n",
       "      <td>130</td>\n",
       "      <td>13.6</td>\n",
       "      <td>94.0</td>\n",
       "      <td>327</td>\n",
       "      <td>304</td>\n",
       "      <td>21.4</td>\n",
       "      <td>70</td>\n",
       "      <td>61.2</td>\n",
       "      <td>4.00</td>\n",
       "      <td>0.78</td>\n",
       "    </tr>\n",
       "    <tr>\n",
       "      <th>2093</th>\n",
       "      <td>436103</td>\n",
       "      <td>1</td>\n",
       "      <td>48</td>\n",
       "      <td>54.9</td>\n",
       "      <td>5.37</td>\n",
       "      <td>6.0</td>\n",
       "      <td>36.5</td>\n",
       "      <td>151</td>\n",
       "      <td>13.0</td>\n",
       "      <td>94.6</td>\n",
       "      <td>342</td>\n",
       "      <td>420</td>\n",
       "      <td>22.3</td>\n",
       "      <td>64</td>\n",
       "      <td>62.8</td>\n",
       "      <td>6.06</td>\n",
       "      <td>1.09</td>\n",
       "    </tr>\n",
       "    <tr>\n",
       "      <th>2094</th>\n",
       "      <td>387125</td>\n",
       "      <td>1</td>\n",
       "      <td>70</td>\n",
       "      <td>81.5</td>\n",
       "      <td>6.77</td>\n",
       "      <td>5.4</td>\n",
       "      <td>12.4</td>\n",
       "      <td>128</td>\n",
       "      <td>12.5</td>\n",
       "      <td>99.0</td>\n",
       "      <td>328</td>\n",
       "      <td>562</td>\n",
       "      <td>25.1</td>\n",
       "      <td>83</td>\n",
       "      <td>73.2</td>\n",
       "      <td>5.87</td>\n",
       "      <td>1.25</td>\n",
       "    </tr>\n",
       "    <tr>\n",
       "      <th>2095</th>\n",
       "      <td>14514</td>\n",
       "      <td>0</td>\n",
       "      <td>62</td>\n",
       "      <td>55.1</td>\n",
       "      <td>2.82</td>\n",
       "      <td>4.4</td>\n",
       "      <td>37.3</td>\n",
       "      <td>161</td>\n",
       "      <td>14.7</td>\n",
       "      <td>97.0</td>\n",
       "      <td>324</td>\n",
       "      <td>283</td>\n",
       "      <td>31.3</td>\n",
       "      <td>80</td>\n",
       "      <td>73.7</td>\n",
       "      <td>4.38</td>\n",
       "      <td>1.26</td>\n",
       "    </tr>\n",
       "  </tbody>\n",
       "</table>\n",
       "</div>"
      ],
      "text/plain": [
       "          No  IS  Age  NeuP  NeuC  MonP  LymP  Hgb  RDW-CV    MCV  MCHC   UA  \\\n",
       "2091    7839   0   54  44.9  2.21   3.2  49.0  135    13.6  100.0   314  190   \n",
       "2092  306237   1   77  75.3  5.34   3.8  17.0  130    13.6   94.0   327  304   \n",
       "2093  436103   1   48  54.9  5.37   6.0  36.5  151    13.0   94.6   342  420   \n",
       "2094  387125   1   70  81.5  6.77   5.4  12.4  128    12.5   99.0   328  562   \n",
       "2095   14514   0   62  55.1  2.82   4.4  37.3  161    14.7   97.0   324  283   \n",
       "\n",
       "        CG  AKP    TP    TC  HDL-C  \n",
       "2091  26.6   75  70.1  5.45   1.86  \n",
       "2092  21.4   70  61.2  4.00   0.78  \n",
       "2093  22.3   64  62.8  6.06   1.09  \n",
       "2094  25.1   83  73.2  5.87   1.25  \n",
       "2095  31.3   80  73.7  4.38   1.26  "
      ]
     },
     "execution_count": 1,
     "metadata": {},
     "output_type": "execute_result"
    }
   ],
   "source": [
    "import matplotlib.pyplot as plt\n",
    "import pandas as pd\n",
    "import numpy as np\n",
    "from sklearn.datasets import make_classification\n",
    "from sklearn.model_selection import train_test_split\n",
    "from sklearn.model_selection import train_test_split, GridSearchCV\n",
    "\n",
    "\n",
    "# generate two class dataset\n",
    "data = pd.read_csv(\"test-15.csv\")\n",
    "data.tail()"
   ]
  },
  {
   "cell_type": "code",
   "execution_count": 2,
   "metadata": {},
   "outputs": [
    {
     "name": "stdout",
     "output_type": "stream",
     "text": [
      "(2096, 15)\n",
      "(2096,)\n"
     ]
    }
   ],
   "source": [
    "data=data.drop(['No'],axis=1)\n",
    "# Split target and features\n",
    "X = data.drop(['IS'],axis=1)\n",
    "X\n",
    "y = data['IS']\n",
    "y = y.astype(int)\n",
    "y\n",
    "print(X.shape)\n",
    "print(y.shape)"
   ]
  },
  {
   "cell_type": "code",
   "execution_count": 3,
   "metadata": {},
   "outputs": [],
   "source": [
    "# Feature Scaling\n",
    "from sklearn.preprocessing import StandardScaler\n",
    "X_features = X\n",
    "sc = StandardScaler()\n",
    "X = sc.fit_transform(X)"
   ]
  },
  {
   "cell_type": "code",
   "execution_count": 4,
   "metadata": {},
   "outputs": [
    {
     "name": "stderr",
     "output_type": "stream",
     "text": [
      "C:\\Users\\93513\\Anaconda3\\lib\\site-packages\\dask\\dataframe\\utils.py:15: FutureWarning: pandas.util.testing is deprecated. Use the functions in the public API at pandas.testing instead.\n",
      "  import pandas.util.testing as tm\n"
     ]
    }
   ],
   "source": [
    "# internal validation - ML models in testing dataset\n",
    "from sklearn.linear_model import LogisticRegression\n",
    "from sklearn.neighbors import KNeighborsClassifier\n",
    "from sklearn.ensemble import RandomForestClassifier\n",
    "from xgboost.sklearn import XGBClassifier\n",
    "from sklearn.linear_model import ElasticNet\n",
    "from sklearn.neural_network import MLPClassifier\n",
    "from sklearn.naive_bayes import GaussianNB\n",
    "\n",
    "\n",
    "\n",
    "# logistic regression\n",
    "model1 = LogisticRegression(C=1.01)\n",
    "# knn\n",
    "model2 = KNeighborsClassifier(n_neighbors=31)\n",
    "# RF\n",
    "model3 = RandomForestClassifier(random_state=25,criterion='entropy',n_estimators=187)\n",
    "\n",
    "# XGBoost\n",
    "model4 = XGBClassifier(learning_rate=0.01, n_estimators=1000, silent=0, gamma=0.2, subsample=0.75, \n",
    "                       objective='binary:logistic', reg_alpha=1, reg_lambda=1,seed=27,\n",
    "                      max_depth=5, min_child_weight=6)\n",
    "\n",
    "## elastic net\n",
    "##model5 = ElasticNet(alpha=0.001, l1_ratio=0.1)\n",
    "\n",
    "# neural network\n",
    "model6 = MLPClassifier(alpha=0.001, hidden_layer_sizes=17)\n",
    "\n",
    "# GaussianNB\n",
    "model7=GaussianNB() ##因为唯一参数 var_smoothing设置为非默认值时， evaluation metrics的值很不理想\n",
    "\n",
    "## 所以此处直接就是 by default 来设置"
   ]
  },
  {
   "cell_type": "code",
   "execution_count": 5,
   "metadata": {},
   "outputs": [
    {
     "name": "stdout",
     "output_type": "stream",
     "text": [
      "[10:37:55] WARNING: C:\\Users\\Administrator\\workspace\\xgboost-win64_release_1.2.0\\src\\learner.cc:516: \n",
      "Parameters: { silent } might not be used.\n",
      "\n",
      "  This may not be accurate due to some parameters are only used in language bindings but\n",
      "  passed down to XGBoost core.  Or some parameters are not used but slip through this\n",
      "  verification. Please open an issue if you find above cases.\n",
      "\n",
      "\n"
     ]
    },
    {
     "name": "stderr",
     "output_type": "stream",
     "text": [
      "C:\\Users\\93513\\Anaconda3\\lib\\site-packages\\sklearn\\neural_network\\_multilayer_perceptron.py:585: ConvergenceWarning: Stochastic Optimizer: Maximum iterations (200) reached and the optimization hasn't converged yet.\n",
      "  % self.max_iter, ConvergenceWarning)\n"
     ]
    }
   ],
   "source": [
    "# fit model\n",
    "model1.fit(X, y)\n",
    "model2.fit(X, y)\n",
    "model3.fit(X, y)\n",
    "model4.fit(X, y)\n",
    "## model5.fit(X_train, y_train)\n",
    "model6.fit(X, y)\n",
    "model7.fit(X, y)\n",
    "\n",
    "# predict probabilities\n",
    "pred_prob1 = model1.predict_proba(X)\n",
    "pred_prob2 = model2.predict_proba(X)\n",
    "pred_prob3 = model3.predict_proba(X)\n",
    "pred_prob4 = model4.predict_proba(X)\n",
    "## pred_prob5 = model5.predict(X_test)\n",
    "pred_prob6 = model6.predict_proba(X)\n",
    "pred_prob7 = model7.predict_proba(X)"
   ]
  },
  {
   "cell_type": "code",
   "execution_count": 6,
   "metadata": {},
   "outputs": [],
   "source": [
    "pred1 = model1.predict(X)\n",
    "pred2 = model2.predict(X)\n",
    "pred3 = model3.predict(X)\n",
    "pred4 = model4.predict(X)\n",
    "## pred5 = model5.predict(X_test)\n",
    "pred6 = model6.predict(X)\n",
    "pred7 = model7.predict(X)"
   ]
  },
  {
   "cell_type": "code",
   "execution_count": 7,
   "metadata": {},
   "outputs": [
    {
     "name": "stdout",
     "output_type": "stream",
     "text": [
      "[1 0 0 ... 1 1 0]\n",
      "[0 0 0 ... 0 1 0]\n",
      "[1 0 1 ... 1 1 0]\n"
     ]
    }
   ],
   "source": [
    "print(pred1)\n",
    "print(pred2)\n",
    "print(pred3)"
   ]
  },
  {
   "cell_type": "code",
   "execution_count": 8,
   "metadata": {},
   "outputs": [],
   "source": [
    "from sklearn.metrics import roc_curve\n",
    "from sklearn.metrics import roc_auc_score, roc_curve\n",
    "\n",
    "# roc curve for models\n",
    "fpr1, tpr1, thresh1 = roc_curve(y, pred_prob1[:,1], pos_label=1)\n",
    "fpr2, tpr2, thresh2 = roc_curve(y, pred_prob2[:,1], pos_label=1)\n",
    "fpr3, tpr3, thresh3 = roc_curve(y, pred_prob3[:,1], pos_label=1)\n",
    "fpr4, tpr4, thresh4 = roc_curve(y, pred_prob4[:,1], pos_label=1)\n",
    "## fpr5, tpr5, thresh5 = roc_curve(y_test, pred_prob5, pos_label=1)\n",
    "fpr6, tpr6, thresh6 = roc_curve(y, pred_prob6[:,1], pos_label=1)\n",
    "fpr7, tpr7, thresh7 = roc_curve(y, pred_prob7[:,1], pos_label=1)\n",
    "\n",
    "# roc curve for tpr = fpr \n",
    "random_probs = [0 for i in range(len(y))]\n",
    "p_fpr, p_tpr, _ = roc_curve(y, random_probs, pos_label=1)\n",
    "\n",
    "# pos_label : 整数或者字符串, 默认None，表示被认为是正类样本的类别, 可以不填，因为运行三五十个点后就可以看到ROC曲线了"
   ]
  },
  {
   "cell_type": "code",
   "execution_count": 9,
   "metadata": {},
   "outputs": [],
   "source": [
    "# AUC score can be computed using the roc_auc_score() method of sklearn:\n",
    "\n",
    "\n",
    "### 因为 elastic net的很多evaluation metrics 不能显示，所以接下来注掉 model5\n",
    "\n",
    "from sklearn.metrics import roc_auc_score\n"
   ]
  },
  {
   "cell_type": "code",
   "execution_count": 10,
   "metadata": {},
   "outputs": [],
   "source": [
    "def bootstrap_auc(model1, X, y, nsamples=1000):\n",
    "    auc_values1 = []\n",
    "    for b in range(nsamples):\n",
    "        idx1 = np.random.randint(X.shape[0], size=X.shape[0])\n",
    "        model1.fit(X[idx1], y[idx1])\n",
    "        pred1_ = model1.predict_proba(X)[:, 1]\n",
    "        roc_auc1 = roc_auc_score(y.ravel(), pred1_.ravel())\n",
    "        auc_values1.append(roc_auc1)\n",
    "    return np.percentile(auc_values1, (2.5, 97.5))"
   ]
  },
  {
   "cell_type": "code",
   "execution_count": 11,
   "metadata": {},
   "outputs": [
    {
     "name": "stdout",
     "output_type": "stream",
     "text": [
      "0.8979247071229131 0.9129742519924214 1.0 0.9812675422953464 0.9294714210524875 0.8822197633996454\n"
     ]
    }
   ],
   "source": [
    "# 1 - auc scores testing set\n",
    "auc_score1 = roc_auc_score(y, pred_prob1[:,1])\n",
    "auc_score2 = roc_auc_score(y, pred_prob2[:,1])\n",
    "auc_score3 = roc_auc_score(y, pred_prob3[:,1])\n",
    "auc_score4 = roc_auc_score(y, pred_prob4[:,1])\n",
    "## auc_score5 = roc_auc_score(y_test, pred_prob5)\n",
    "auc_score6 = roc_auc_score(y, pred_prob6[:,1])\n",
    "auc_score7 = roc_auc_score(y, pred_prob7[:,1])\n",
    "\n",
    "\n",
    "\n",
    "print(auc_score1, auc_score2, auc_score3, auc_score4,auc_score6,auc_score7)"
   ]
  },
  {
   "cell_type": "code",
   "execution_count": 12,
   "metadata": {},
   "outputs": [],
   "source": [
    "## Calculating 95% CI for AUC\n",
    "\n",
    "#### https://www.google.com/imgres?imgurl=https%3A%2F%2Fi.stack.imgur.com%2FzFGNa.png&imgrefurl=https%3A%2F%2Fstackoverflow.com%2Fquestions%2F50437354%2Fhow-to-calculate-95-confidence-interval-for-auc-from-confusion-matrix&tbnid=vFftbLzgp01LlM&vet=12ahUKEwintYqzxozzAhUTUn0KHQfoDFkQMygAegUIARCqAQ..i&docid=jK-T-QoSUo5GyM&w=1622&h=836&q=calculating%20confidence%20interval%20auc%20python&ved=2ahUKEwintYqzxozzAhUTUn0KHQfoDFkQMygAegUIARCqAQ\n",
    "\n",
    "\n",
    "### https://gist.github.com/doraneko94/e24643136cfb8baf03ef8a314ab9615c"
   ]
  },
  {
   "cell_type": "code",
   "execution_count": null,
   "metadata": {},
   "outputs": [],
   "source": []
  },
  {
   "cell_type": "code",
   "execution_count": 13,
   "metadata": {},
   "outputs": [
    {
     "name": "stdout",
     "output_type": "stream",
     "text": [
      "0.8187022900763359 0.8206106870229007 1.0 0.9265267175572519 0.8587786259541985 0.8086832061068703\n"
     ]
    }
   ],
   "source": [
    "acc1 = model1.score(X,y)\n",
    "acc2 = model2.score(X,y)\n",
    "acc3 = model3.score(X,y)\n",
    "acc4 = model4.score(X,y)\n",
    "## acc5 = model5.score(X_train,y_train)\n",
    "acc6 = model6.score(X,y)\n",
    "acc7 = model7.score(X,y)\n",
    "print(acc1,acc2,acc3,acc4,acc6,acc7)"
   ]
  },
  {
   "cell_type": "code",
   "execution_count": 14,
   "metadata": {},
   "outputs": [],
   "source": [
    "import warnings\n",
    "import pandas\n",
    "from sklearn import model_selection\n",
    "from sklearn.metrics import log_loss\n",
    "from sklearn.metrics import precision_recall_fscore_support as score, precision_score, recall_score, f1_score\n",
    "\n",
    "warnings.filterwarnings('ignore')"
   ]
  },
  {
   "cell_type": "code",
   "execution_count": 15,
   "metadata": {},
   "outputs": [
    {
     "name": "stdout",
     "output_type": "stream",
     "text": [
      "0.8282402528977871 0.8865598027127004 1.0 0.9318413021363174 0.8709338929695698 0.8382022471910112\n"
     ]
    }
   ],
   "source": [
    "# 3-precision\n",
    "precision1 = precision_score(y, pred1)\n",
    "precision2 = precision_score(y, pred2)\n",
    "precision3 = precision_score(y, pred3)\n",
    "precision4 = precision_score(y, pred4)\n",
    "## precision5 = precision_score(y_test, pred5)\n",
    "precision6 = precision_score(y, pred6)\n",
    "precision7 = precision_score(y, pred7)\n",
    "print(precision1,precision2,precision3,precision4,precision6,precision7)"
   ]
  },
  {
   "cell_type": "code",
   "execution_count": null,
   "metadata": {},
   "outputs": [],
   "source": []
  },
  {
   "cell_type": "code",
   "execution_count": null,
   "metadata": {},
   "outputs": [],
   "source": []
  },
  {
   "cell_type": "code",
   "execution_count": null,
   "metadata": {},
   "outputs": [],
   "source": []
  },
  {
   "cell_type": "code",
   "execution_count": null,
   "metadata": {},
   "outputs": [],
   "source": []
  },
  {
   "cell_type": "code",
   "execution_count": null,
   "metadata": {},
   "outputs": [],
   "source": []
  },
  {
   "cell_type": "code",
   "execution_count": null,
   "metadata": {},
   "outputs": [],
   "source": []
  },
  {
   "cell_type": "code",
   "execution_count": null,
   "metadata": {},
   "outputs": [],
   "source": []
  },
  {
   "cell_type": "code",
   "execution_count": null,
   "metadata": {},
   "outputs": [],
   "source": []
  },
  {
   "cell_type": "code",
   "execution_count": null,
   "metadata": {},
   "outputs": [],
   "source": []
  },
  {
   "cell_type": "code",
   "execution_count": null,
   "metadata": {},
   "outputs": [],
   "source": []
  },
  {
   "cell_type": "code",
   "execution_count": null,
   "metadata": {},
   "outputs": [],
   "source": []
  },
  {
   "cell_type": "code",
   "execution_count": null,
   "metadata": {},
   "outputs": [],
   "source": []
  },
  {
   "cell_type": "code",
   "execution_count": null,
   "metadata": {},
   "outputs": [],
   "source": []
  },
  {
   "cell_type": "code",
   "execution_count": null,
   "metadata": {},
   "outputs": [],
   "source": []
  },
  {
   "cell_type": "code",
   "execution_count": null,
   "metadata": {},
   "outputs": [],
   "source": []
  }
 ],
 "metadata": {
  "kernelspec": {
   "display_name": "Python 3",
   "language": "python",
   "name": "python3"
  },
  "language_info": {
   "codemirror_mode": {
    "name": "ipython",
    "version": 3
   },
   "file_extension": ".py",
   "mimetype": "text/x-python",
   "name": "python",
   "nbconvert_exporter": "python",
   "pygments_lexer": "ipython3",
   "version": "3.7.3"
  }
 },
 "nbformat": 4,
 "nbformat_minor": 2
}
