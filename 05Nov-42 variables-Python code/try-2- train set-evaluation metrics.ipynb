{
 "cells": [
  {
   "cell_type": "code",
   "execution_count": 1,
   "metadata": {},
   "outputs": [
    {
     "name": "stderr",
     "output_type": "stream",
     "text": [
      "In C:\\Users\\93513\\Anaconda3\\lib\\site-packages\\matplotlib\\mpl-data\\stylelib\\_classic_test.mplstyle: \n",
      "The savefig.frameon rcparam was deprecated in Matplotlib 3.1 and will be removed in 3.3.\n",
      "In C:\\Users\\93513\\Anaconda3\\lib\\site-packages\\matplotlib\\mpl-data\\stylelib\\_classic_test.mplstyle: \n",
      "The verbose.level rcparam was deprecated in Matplotlib 3.1 and will be removed in 3.3.\n",
      "In C:\\Users\\93513\\Anaconda3\\lib\\site-packages\\matplotlib\\mpl-data\\stylelib\\_classic_test.mplstyle: \n",
      "The verbose.fileo rcparam was deprecated in Matplotlib 3.1 and will be removed in 3.3.\n"
     ]
    },
    {
     "data": {
      "text/html": [
       "<div>\n",
       "<style scoped>\n",
       "    .dataframe tbody tr th:only-of-type {\n",
       "        vertical-align: middle;\n",
       "    }\n",
       "\n",
       "    .dataframe tbody tr th {\n",
       "        vertical-align: top;\n",
       "    }\n",
       "\n",
       "    .dataframe thead th {\n",
       "        text-align: right;\n",
       "    }\n",
       "</style>\n",
       "<table border=\"1\" class=\"dataframe\">\n",
       "  <thead>\n",
       "    <tr style=\"text-align: right;\">\n",
       "      <th></th>\n",
       "      <th>No</th>\n",
       "      <th>IS</th>\n",
       "      <th>Age</th>\n",
       "      <th>NeuP</th>\n",
       "      <th>NeuC</th>\n",
       "      <th>MonP</th>\n",
       "      <th>LymP</th>\n",
       "      <th>Hgb</th>\n",
       "      <th>RDW-CV</th>\n",
       "      <th>MCV</th>\n",
       "      <th>MCHC</th>\n",
       "      <th>UA</th>\n",
       "      <th>CG</th>\n",
       "      <th>AKP</th>\n",
       "      <th>TP</th>\n",
       "      <th>TC</th>\n",
       "      <th>HDL-C</th>\n",
       "    </tr>\n",
       "  </thead>\n",
       "  <tbody>\n",
       "    <tr>\n",
       "      <th>8375</th>\n",
       "      <td>15286</td>\n",
       "      <td>0</td>\n",
       "      <td>48</td>\n",
       "      <td>41.5</td>\n",
       "      <td>2.71</td>\n",
       "      <td>5.4</td>\n",
       "      <td>49.3</td>\n",
       "      <td>131</td>\n",
       "      <td>13.4</td>\n",
       "      <td>90.0</td>\n",
       "      <td>321</td>\n",
       "      <td>255</td>\n",
       "      <td>29.3</td>\n",
       "      <td>84</td>\n",
       "      <td>69.4</td>\n",
       "      <td>4.94</td>\n",
       "      <td>1.60</td>\n",
       "    </tr>\n",
       "    <tr>\n",
       "      <th>8376</th>\n",
       "      <td>312283</td>\n",
       "      <td>1</td>\n",
       "      <td>80</td>\n",
       "      <td>64.0</td>\n",
       "      <td>3.89</td>\n",
       "      <td>6.1</td>\n",
       "      <td>26.0</td>\n",
       "      <td>111</td>\n",
       "      <td>10.8</td>\n",
       "      <td>93.0</td>\n",
       "      <td>332</td>\n",
       "      <td>325</td>\n",
       "      <td>21.5</td>\n",
       "      <td>69</td>\n",
       "      <td>60.5</td>\n",
       "      <td>3.16</td>\n",
       "      <td>1.19</td>\n",
       "    </tr>\n",
       "    <tr>\n",
       "      <th>8377</th>\n",
       "      <td>4916</td>\n",
       "      <td>0</td>\n",
       "      <td>65</td>\n",
       "      <td>69.9</td>\n",
       "      <td>3.14</td>\n",
       "      <td>3.5</td>\n",
       "      <td>25.7</td>\n",
       "      <td>121</td>\n",
       "      <td>13.2</td>\n",
       "      <td>92.0</td>\n",
       "      <td>324</td>\n",
       "      <td>257</td>\n",
       "      <td>30.6</td>\n",
       "      <td>94</td>\n",
       "      <td>74.9</td>\n",
       "      <td>5.21</td>\n",
       "      <td>1.84</td>\n",
       "    </tr>\n",
       "    <tr>\n",
       "      <th>8378</th>\n",
       "      <td>6844</td>\n",
       "      <td>0</td>\n",
       "      <td>50</td>\n",
       "      <td>54.4</td>\n",
       "      <td>3.75</td>\n",
       "      <td>5.7</td>\n",
       "      <td>39.2</td>\n",
       "      <td>152</td>\n",
       "      <td>12.7</td>\n",
       "      <td>99.1</td>\n",
       "      <td>345</td>\n",
       "      <td>282</td>\n",
       "      <td>21.4</td>\n",
       "      <td>51</td>\n",
       "      <td>64.2</td>\n",
       "      <td>5.09</td>\n",
       "      <td>1.62</td>\n",
       "    </tr>\n",
       "    <tr>\n",
       "      <th>8379</th>\n",
       "      <td>14723</td>\n",
       "      <td>0</td>\n",
       "      <td>69</td>\n",
       "      <td>50.8</td>\n",
       "      <td>1.40</td>\n",
       "      <td>4.9</td>\n",
       "      <td>43.3</td>\n",
       "      <td>153</td>\n",
       "      <td>12.1</td>\n",
       "      <td>93.0</td>\n",
       "      <td>341</td>\n",
       "      <td>417</td>\n",
       "      <td>27.9</td>\n",
       "      <td>54</td>\n",
       "      <td>71.8</td>\n",
       "      <td>5.90</td>\n",
       "      <td>1.52</td>\n",
       "    </tr>\n",
       "  </tbody>\n",
       "</table>\n",
       "</div>"
      ],
      "text/plain": [
       "          No  IS  Age  NeuP  NeuC  MonP  LymP  Hgb  RDW-CV   MCV  MCHC   UA  \\\n",
       "8375   15286   0   48  41.5  2.71   5.4  49.3  131    13.4  90.0   321  255   \n",
       "8376  312283   1   80  64.0  3.89   6.1  26.0  111    10.8  93.0   332  325   \n",
       "8377    4916   0   65  69.9  3.14   3.5  25.7  121    13.2  92.0   324  257   \n",
       "8378    6844   0   50  54.4  3.75   5.7  39.2  152    12.7  99.1   345  282   \n",
       "8379   14723   0   69  50.8  1.40   4.9  43.3  153    12.1  93.0   341  417   \n",
       "\n",
       "        CG  AKP    TP    TC  HDL-C  \n",
       "8375  29.3   84  69.4  4.94   1.60  \n",
       "8376  21.5   69  60.5  3.16   1.19  \n",
       "8377  30.6   94  74.9  5.21   1.84  \n",
       "8378  21.4   51  64.2  5.09   1.62  \n",
       "8379  27.9   54  71.8  5.90   1.52  "
      ]
     },
     "execution_count": 1,
     "metadata": {},
     "output_type": "execute_result"
    }
   ],
   "source": [
    "import matplotlib.pyplot as plt\n",
    "import pandas as pd\n",
    "import numpy as np\n",
    "from sklearn.datasets import make_classification\n",
    "from sklearn.model_selection import train_test_split\n",
    "from sklearn.model_selection import train_test_split, GridSearchCV\n",
    "\n",
    "\n",
    "# generate two class dataset\n",
    "data = pd.read_csv(\"train-15.csv\")\n",
    "data.tail()"
   ]
  },
  {
   "cell_type": "code",
   "execution_count": 2,
   "metadata": {},
   "outputs": [
    {
     "name": "stdout",
     "output_type": "stream",
     "text": [
      "(8380, 15)\n",
      "(8380,)\n"
     ]
    }
   ],
   "source": [
    "data=data.drop(['No'],axis=1)\n",
    "# Split target and features\n",
    "X = data.drop(['IS'],axis=1)\n",
    "X\n",
    "\n",
    "y = data['IS']\n",
    "y = y.astype(int)\n",
    "y\n",
    "print(X.shape)\n",
    "print(y.shape)"
   ]
  },
  {
   "cell_type": "code",
   "execution_count": 3,
   "metadata": {},
   "outputs": [],
   "source": [
    "# Feature Scaling\n",
    "from sklearn.preprocessing import StandardScaler\n",
    "X_features = X\n",
    "sc = StandardScaler()\n",
    "X = sc.fit_transform(X)"
   ]
  },
  {
   "cell_type": "code",
   "execution_count": 4,
   "metadata": {},
   "outputs": [
    {
     "name": "stderr",
     "output_type": "stream",
     "text": [
      "C:\\Users\\93513\\Anaconda3\\lib\\site-packages\\dask\\dataframe\\utils.py:15: FutureWarning: pandas.util.testing is deprecated. Use the functions in the public API at pandas.testing instead.\n",
      "  import pandas.util.testing as tm\n"
     ]
    }
   ],
   "source": [
    "# train models\n",
    "from sklearn.linear_model import LogisticRegression\n",
    "from sklearn.neighbors import KNeighborsClassifier\n",
    "from sklearn.ensemble import RandomForestClassifier\n",
    "from xgboost.sklearn import XGBClassifier\n",
    "from sklearn.linear_model import ElasticNet\n",
    "from sklearn.neural_network import MLPClassifier\n",
    "from sklearn.naive_bayes import GaussianNB\n",
    "\n",
    "\n",
    "\n",
    "# logistic regression\n",
    "model1 = LogisticRegression(C=1.01)\n",
    "# knn\n",
    "model2 = KNeighborsClassifier(n_neighbors=31)\n",
    "# RF\n",
    "model3 = RandomForestClassifier(random_state=25,criterion='entropy',n_estimators=187)\n",
    "\n",
    "# XGBoost\n",
    "model4 = XGBClassifier(learning_rate=0.01, n_estimators=1000, silent=0, gamma=0.2, subsample=0.75, \n",
    "                       objective='binary:logistic', reg_alpha=1, reg_lambda=1,seed=27,\n",
    "                      max_depth=5, min_child_weight=6)\n",
    "\n",
    "## elastic net\n",
    "##model5 = ElasticNet(alpha=0.001, l1_ratio=0.1)\n",
    "\n",
    "# neural network\n",
    "model6 = MLPClassifier(alpha=0.001, hidden_layer_sizes=17)\n",
    "\n",
    "# GaussianNB\n",
    "model7=GaussianNB() ##因为唯一参数 var_smoothing设置为非默认值时， evaluation metrics的值很不理想\n",
    "\n",
    "## 所以此处直接就是 by default 来设置"
   ]
  },
  {
   "cell_type": "code",
   "execution_count": 5,
   "metadata": {},
   "outputs": [
    {
     "name": "stdout",
     "output_type": "stream",
     "text": [
      "[10:37:13] WARNING: C:\\Users\\Administrator\\workspace\\xgboost-win64_release_1.2.0\\src\\learner.cc:516: \n",
      "Parameters: { silent } might not be used.\n",
      "\n",
      "  This may not be accurate due to some parameters are only used in language bindings but\n",
      "  passed down to XGBoost core.  Or some parameters are not used but slip through this\n",
      "  verification. Please open an issue if you find above cases.\n",
      "\n",
      "\n"
     ]
    },
    {
     "name": "stderr",
     "output_type": "stream",
     "text": [
      "C:\\Users\\93513\\Anaconda3\\lib\\site-packages\\sklearn\\neural_network\\_multilayer_perceptron.py:585: ConvergenceWarning: Stochastic Optimizer: Maximum iterations (200) reached and the optimization hasn't converged yet.\n",
      "  % self.max_iter, ConvergenceWarning)\n"
     ]
    }
   ],
   "source": [
    "# fit model\n",
    "model1.fit(X, y)\n",
    "model2.fit(X, y)\n",
    "model3.fit(X, y)\n",
    "model4.fit(X, y)\n",
    "## model5.fit(X_train, y_train)\n",
    "model6.fit(X, y)\n",
    "model7.fit(X, y)\n",
    "\n",
    "# predict probabilities\n",
    "pred_prob1 = model1.predict_proba(X)\n",
    "pred_prob2 = model2.predict_proba(X)\n",
    "pred_prob3 = model3.predict_proba(X)\n",
    "pred_prob4 = model4.predict_proba(X)\n",
    "## pred_prob5 = model5.predict(X_test)\n",
    "pred_prob6 = model6.predict_proba(X)\n",
    "pred_prob7 = model7.predict_proba(X)"
   ]
  },
  {
   "cell_type": "code",
   "execution_count": 6,
   "metadata": {},
   "outputs": [],
   "source": [
    "pred1 = model1.predict(X)\n",
    "pred2 = model2.predict(X)\n",
    "pred3 = model3.predict(X)\n",
    "pred4 = model4.predict(X)\n",
    "## pred5 = model5.predict(X_test)\n",
    "pred6 = model6.predict(X)\n",
    "pred7 = model7.predict(X)"
   ]
  },
  {
   "cell_type": "code",
   "execution_count": 7,
   "metadata": {},
   "outputs": [
    {
     "name": "stdout",
     "output_type": "stream",
     "text": [
      "[1 1 0 ... 0 0 0]\n",
      "[1 1 0 ... 1 0 0]\n",
      "[1 1 0 ... 0 0 0]\n"
     ]
    }
   ],
   "source": [
    "print(pred1)\n",
    "print(pred2)\n",
    "print(pred3)"
   ]
  },
  {
   "cell_type": "code",
   "execution_count": 8,
   "metadata": {},
   "outputs": [],
   "source": [
    "from sklearn.metrics import roc_curve\n",
    "from sklearn.metrics import roc_auc_score, roc_curve\n",
    "\n",
    "# roc curve for models\n",
    "fpr1, tpr1, thresh1 = roc_curve(y, pred_prob1[:,1], pos_label=1)\n",
    "fpr2, tpr2, thresh2 = roc_curve(y, pred_prob2[:,1], pos_label=1)\n",
    "fpr3, tpr3, thresh3 = roc_curve(y, pred_prob3[:,1], pos_label=1)\n",
    "fpr4, tpr4, thresh4 = roc_curve(y, pred_prob4[:,1], pos_label=1)\n",
    "## fpr5, tpr5, thresh5 = roc_curve(y_test, pred_prob5, pos_label=1)\n",
    "fpr6, tpr6, thresh6 = roc_curve(y, pred_prob6[:,1], pos_label=1)\n",
    "fpr7, tpr7, thresh7 = roc_curve(y, pred_prob7[:,1], pos_label=1)\n",
    "\n",
    "# roc curve for tpr = fpr \n",
    "random_probs = [0 for i in range(len(y))]\n",
    "p_fpr, p_tpr, _ = roc_curve(y, random_probs, pos_label=1)\n",
    "\n",
    "# pos_label : 整数或者字符串, 默认None，表示被认为是正类样本的类别, 可以不填，因为运行三五十个点后就可以看到ROC曲线了"
   ]
  },
  {
   "cell_type": "code",
   "execution_count": 9,
   "metadata": {},
   "outputs": [],
   "source": [
    "# AUC score can be computed using the roc_auc_score() method of sklearn:\n",
    "\n",
    "\n",
    "### 因为 elastic net的很多evaluation metrics 不能显示，所以接下来注掉 model5\n",
    "\n",
    "from sklearn.metrics import roc_auc_score\n"
   ]
  },
  {
   "cell_type": "code",
   "execution_count": 10,
   "metadata": {},
   "outputs": [],
   "source": [
    "def bootstrap_auc(model1, X, y, nsamples=1000):\n",
    "    auc_values1 = []\n",
    "    for b in range(nsamples):\n",
    "        idx1 = np.random.randint(X.shape[0], size=X.shape[0])\n",
    "        model1.fit(X[idx1], y[idx1])\n",
    "        pred1_ = model1.predict_proba(X)[:, 1]\n",
    "        roc_auc1 = roc_auc_score(y.ravel(), pred1_.ravel())\n",
    "        auc_values1.append(roc_auc1)\n",
    "    return np.percentile(auc_values1, (2.5, 97.5))"
   ]
  },
  {
   "cell_type": "code",
   "execution_count": 11,
   "metadata": {},
   "outputs": [
    {
     "name": "stdout",
     "output_type": "stream",
     "text": [
      "0.9042489684027093 0.9234415756997874 1.0 0.9607733303559034 0.937266703290882 0.8892946607647794\n"
     ]
    }
   ],
   "source": [
    "# 1 - auc scores testing set\n",
    "auc_score1 = roc_auc_score(y, pred_prob1[:,1])\n",
    "auc_score2 = roc_auc_score(y, pred_prob2[:,1])\n",
    "auc_score3 = roc_auc_score(y, pred_prob3[:,1])\n",
    "auc_score4 = roc_auc_score(y, pred_prob4[:,1])\n",
    "## auc_score5 = roc_auc_score(y_test, pred_prob5)\n",
    "auc_score6 = roc_auc_score(y, pred_prob6[:,1])\n",
    "auc_score7 = roc_auc_score(y, pred_prob7[:,1])\n",
    "\n",
    "\n",
    "\n",
    "print(auc_score1, auc_score2, auc_score3, auc_score4,auc_score6,auc_score7)"
   ]
  },
  {
   "cell_type": "code",
   "execution_count": null,
   "metadata": {},
   "outputs": [],
   "source": []
  },
  {
   "cell_type": "code",
   "execution_count": 12,
   "metadata": {},
   "outputs": [],
   "source": [
    "## Calculating 95% CI for AUC\n",
    "\n",
    "#### https://www.google.com/imgres?imgurl=https%3A%2F%2Fi.stack.imgur.com%2FzFGNa.png&imgrefurl=https%3A%2F%2Fstackoverflow.com%2Fquestions%2F50437354%2Fhow-to-calculate-95-confidence-interval-for-auc-from-confusion-matrix&tbnid=vFftbLzgp01LlM&vet=12ahUKEwintYqzxozzAhUTUn0KHQfoDFkQMygAegUIARCqAQ..i&docid=jK-T-QoSUo5GyM&w=1622&h=836&q=calculating%20confidence%20interval%20auc%20python&ved=2ahUKEwintYqzxozzAhUTUn0KHQfoDFkQMygAegUIARCqAQ\n",
    "\n",
    "\n",
    "### https://gist.github.com/doraneko94/e24643136cfb8baf03ef8a314ab9615c"
   ]
  },
  {
   "cell_type": "code",
   "execution_count": 13,
   "metadata": {},
   "outputs": [],
   "source": [
    "from math import sqrt"
   ]
  },
  {
   "cell_type": "code",
   "execution_count": 14,
   "metadata": {},
   "outputs": [
    {
     "name": "stdout",
     "output_type": "stream",
     "text": [
      "3996 4384\n",
      "0.8252321397175174 0.8587807691377932\n",
      "0.00346654059499523\n",
      "0.9042489684027093\n",
      "0.8974545488365187 0.9110433879688999\n"
     ]
    }
   ],
   "source": [
    "## model 1-LR\n",
    "\n",
    "N1 = sum(y == 1)\n",
    "N2 = sum(y != 1)\n",
    "print (N1, N2)\n",
    "\n",
    "Q1_1 = auc_score1 / (2 - auc_score1)\n",
    "Q2_1 = 2*auc_score1**2 / (1 + auc_score1)\n",
    "print (Q1_1, Q2_1)\n",
    "\n",
    "SE_AUC_1 = sqrt((auc_score1*(1-auc_score1)+(N1-1)*(Q1_1- auc_score1**2)+(N2-1)*(Q2_1-auc_score1**2))/(N1*N2))\n",
    "lower1 = auc_score1 - 1.96*SE_AUC_1\n",
    "upper1 = auc_score1 + 1.96*SE_AUC_1\n",
    "print(SE_AUC_1)\n",
    "print(auc_score1)\n",
    "print(lower1,upper1)"
   ]
  },
  {
   "cell_type": "code",
   "execution_count": 15,
   "metadata": {},
   "outputs": [
    {
     "name": "stdout",
     "output_type": "stream",
     "text": [
      "0.8577719098710739 0.8866859846477638\n",
      "0.003105239781127702\n",
      "0.9234415756997874\n",
      "0.9173553057287771 0.9295278456707976\n"
     ]
    }
   ],
   "source": [
    "## model 2 - k-NN\n",
    "\n",
    "Q1_2 = auc_score2 / (2 - auc_score2)\n",
    "Q2_2 = 2*auc_score2**2 / (1 + auc_score2)\n",
    "print (Q1_2, Q2_2)\n",
    "\n",
    "SE_AUC_2 = sqrt((auc_score2*(1-auc_score2)+(N1-1)*(Q1_2- auc_score2**2)+(N2-1)*(Q2_2-auc_score2**2))/(N1*N2))\n",
    "lower2 = auc_score2 - 1.96*SE_AUC_2\n",
    "upper2 = auc_score2 + 1.96*SE_AUC_2\n",
    "print(SE_AUC_2)\n",
    "print(auc_score2)\n",
    "print(lower2,upper2)"
   ]
  },
  {
   "cell_type": "code",
   "execution_count": 16,
   "metadata": {},
   "outputs": [
    {
     "name": "stdout",
     "output_type": "stream",
     "text": [
      "1.0 1.0\n",
      "0.0\n",
      "1.0\n",
      "1.0 1.0\n"
     ]
    }
   ],
   "source": [
    "## model 3 - RF\n",
    "\n",
    "Q1_3 = auc_score3 / (2 - auc_score3)\n",
    "Q2_3 = 2*auc_score3**2 / (1 + auc_score3)\n",
    "print (Q1_3, Q2_3)\n",
    "\n",
    "SE_AUC_3 = sqrt((auc_score3*(1-auc_score3)+(N1-1)*(Q1_3- auc_score3**2)+(N2-1)*(Q2_3-auc_score3**2))/(N1*N2))\n",
    "lower3 = auc_score3 - 1.96*SE_AUC_3\n",
    "upper3 = auc_score3 + 1.96*SE_AUC_3\n",
    "print(SE_AUC_3)\n",
    "print(auc_score3)\n",
    "print(lower3,upper3)"
   ]
  },
  {
   "cell_type": "code",
   "execution_count": 17,
   "metadata": {},
   "outputs": [
    {
     "name": "stdout",
     "output_type": "stream",
     "text": [
      "0.9245079619491856 0.9415523742926706\n",
      "0.002224156937977081\n",
      "0.9607733303559034\n",
      "0.9564139827574684 0.9651326779543384\n"
     ]
    }
   ],
   "source": [
    "## model 4 - XGBoost\n",
    "\n",
    "Q1_4 = auc_score4 / (2 - auc_score4)\n",
    "Q2_4 = 2*auc_score4**2 / (1 + auc_score4)\n",
    "print (Q1_4, Q2_4)\n",
    "\n",
    "SE_AUC_4 = sqrt((auc_score4*(1-auc_score4)+(N1-1)*(Q1_4- auc_score4**2)+(N2-1)*(Q2_4-auc_score4**2))/(N1*N2))\n",
    "lower4 = auc_score4 - 1.96*SE_AUC_4\n",
    "upper4 = auc_score4 + 1.96*SE_AUC_4\n",
    "print(SE_AUC_4)\n",
    "print(auc_score4)\n",
    "print(lower4,upper4)"
   ]
  },
  {
   "cell_type": "code",
   "execution_count": 18,
   "metadata": {},
   "outputs": [
    {
     "name": "stdout",
     "output_type": "stream",
     "text": [
      "0.881939717324414 0.9069157815033746\n",
      "0.002812843312622345\n",
      "0.937266703290882\n",
      "0.9317535303981422 0.9427798761836218\n"
     ]
    }
   ],
   "source": [
    "## model 6 - NN\n",
    "\n",
    "Q1_6 = auc_score6 / (2 - auc_score6)\n",
    "Q2_6 = 2*auc_score6**2 / (1 + auc_score6)\n",
    "print (Q1_6, Q2_6)\n",
    "\n",
    "SE_AUC_6 = sqrt((auc_score6*(1-auc_score6)+(N1-1)*(Q1_6- auc_score6**2)+(N2-1)*(Q2_6-auc_score6**2))/(N1*N2))\n",
    "lower6 = auc_score6 - 1.96*SE_AUC_6\n",
    "upper6 = auc_score6 + 1.96*SE_AUC_6\n",
    "print(SE_AUC_6)\n",
    "print(auc_score6)\n",
    "print(lower6,upper6)"
   ]
  },
  {
   "cell_type": "code",
   "execution_count": 19,
   "metadata": {},
   "outputs": [
    {
     "name": "stdout",
     "output_type": "stream",
     "text": [
      "0.8006575905875322 0.8371854428939242\n",
      "0.0037198653556553426\n",
      "0.8892946607647794\n",
      "0.8820037246676949 0.8965855968618638\n"
     ]
    }
   ],
   "source": [
    "## model 7 - GaussianNB\n",
    "\n",
    "Q1_7 = auc_score7 / (2 - auc_score7)\n",
    "Q2_7 = 2*auc_score7**2 / (1 + auc_score7)\n",
    "print (Q1_7, Q2_7)\n",
    "\n",
    "SE_AUC_7 = sqrt((auc_score7*(1-auc_score7)+(N1-1)*(Q1_7- auc_score7**2)+(N2-1)*(Q2_7-auc_score7**2))/(N1*N2))\n",
    "lower7 = auc_score7 - 1.96*SE_AUC_7\n",
    "upper7 = auc_score7 + 1.96*SE_AUC_7\n",
    "print(SE_AUC_7)\n",
    "print(auc_score7)\n",
    "print(lower7,upper7)"
   ]
  },
  {
   "cell_type": "code",
   "execution_count": 20,
   "metadata": {},
   "outputs": [
    {
     "data": {
      "image/png": "[encoded data removed]",
      "text/plain": [
       "<Figure size 576x576 with 1 Axes>"
      ]
     },
     "metadata": {
      "needs_background": "light"
     },
     "output_type": "display_data"
    }
   ],
   "source": [
    "# plot the ROC curves for the two algorithms using matplotlib:\n",
    "# Ref: https://github.com/stanfordmlgroup/influenza-qtof/blob/master/notebooks/VTM_Subtraction.ipynb\n",
    "\n",
    "#name_dict[names[l]] + ' (AUC = %0.2f (95%% CI %0.2f - %0.2f))' % (test_aucs[l], cis[names[l]][0], cis[names[l]][1]))\n",
    "# plot roc curves\n",
    "\n",
    "plt.rc('axes', labelsize=14)    # fontsize of the x and y labels\n",
    "\n",
    "fig = plt.figure(figsize=(8,8))\n",
    "lw = 2\n",
    "\n",
    "plt.plot(fpr1, tpr1,color='#be0119', label= 'LR' + ' AUC = %0.3f (%0.3f - %0.3f)' % (auc_score1, lower1, upper1))\n",
    "plt.plot(fpr2, tpr2,color='#ff9408', label= 'k-NN' + ' AUC = %0.3f (%0.3f - %0.3f)' % (auc_score2, lower2, upper2))\n",
    "plt.plot(fpr3, tpr3,color='#3b638c', label= 'RF' + ' AUC = %0.3f (%0.3f - %0.3f)' % (auc_score3, lower3, upper3))\n",
    "plt.plot(fpr4, tpr4,color='#89fe05', label= 'XGBoost' + ' AUC = %0.3f (%0.3f - %0.3f)' % (auc_score4, lower4, upper4))\n",
    "#plt.plot(fpr5, tpr5,color='#069af3', label='EN (AUC = %0.2f)' % auc_score5)\n",
    "plt.plot(fpr6, tpr6,color='#bf77f6', label= 'NN' + ' AUC = %0.3f (%0.3f - %0.3f)' % (auc_score6, lower6, upper6))\n",
    "plt.plot(fpr7, tpr7,color='#a2cffe', label= 'GaussianNB' + ' AUC = %0.3f (%0.3f - %0.3f)' % (auc_score7, lower7, upper7))\n",
    "plt.plot(p_fpr, p_tpr, linestyle='--', color='black')\n",
    "\n",
    "plt.plot([0, 1], [0, 1], color='grey', lw=lw, linestyle='--')\n",
    "\n",
    "# title\n",
    "plt.title('ROC curve')\n",
    "# x label\n",
    "plt.xlabel('False Positive Rate (1-Specificity)')\n",
    "# y label\n",
    "plt.ylabel('True Positive Rate (Sensitivity)')\n",
    "\n",
    "plt.legend(loc='best')\n",
    "plt.savefig('ROC',dpi=500)\n",
    "plt.xlim(-0.05,1.02)    # remove the space from the curve to the axes\n",
    "plt.ylim(-0.05,1.05)\n",
    "\n",
    "\n",
    "plt.show()"
   ]
  },
  {
   "cell_type": "code",
   "execution_count": 21,
   "metadata": {},
   "outputs": [
    {
     "data": {
      "image/png": "[encoded data removed]",
      "text/plain": [
       "<Figure size 576x576 with 1 Axes>"
      ]
     },
     "metadata": {
      "needs_background": "light"
     },
     "output_type": "display_data"
    }
   ],
   "source": [
    "# plot the ROC curves for the two algorithms using matplotlib:\n",
    "# Ref: https://github.com/stanfordmlgroup/influenza-qtof/blob/master/notebooks/VTM_Subtraction.ipynb\n",
    "\n",
    "#name_dict[names[l]] + ' (AUC = %0.2f (95%% CI %0.2f - %0.2f))' % (test_aucs[l], cis[names[l]][0], cis[names[l]][1]))\n",
    "# plot roc curves\n",
    "\n",
    "plt.rc('axes', labelsize=14)    # fontsize of the x and y labels\n",
    "\n",
    "fig = plt.figure(figsize=(8,8))\n",
    "lw = 2\n",
    "\n",
    "# plt.plot(fpr1, tpr1,color='#be0119', label= 'LR' + ' AUC = %0.3f (%0.3f - %0.3f)' % (auc_score1, lower1, upper1))\n",
    "# plt.plot(fpr2, tpr2,color='#ff9408', label= 'k-NN' + ' AUC = %0.3f (%0.3f - %0.3f)' % (auc_score2, lower2, upper2))\n",
    "# plt.plot(fpr3, tpr3,color='#3b638c', label= 'RF' + ' AUC = %0.3f (%0.3f - %0.3f)' % (auc_score3, lower3, upper3))\n",
    "plt.plot(fpr4, tpr4,color='#89fe05', label= 'XGBoost' + ' AUC = %0.3f (%0.3f - %0.3f)' % (auc_score4, lower4, upper4))\n",
    "#plt.plot(fpr5, tpr5,color='#069af3', label='EN (AUC = %0.2f)' % auc_score5)\n",
    "# plt.plot(fpr6, tpr6,color='#bf77f6', label= 'NN' + ' AUC = %0.3f (%0.3f - %0.3f)' % (auc_score6, lower6, upper6))\n",
    "# plt.plot(fpr7, tpr7,color='#a2cffe', label= 'GaussianNB' + ' AUC = %0.3f (%0.3f - %0.3f)' % (auc_score7, lower7, upper7))\n",
    "# plt.plot(p_fpr, p_tpr, linestyle='--', color='black')\n",
    "\n",
    "plt.plot([0, 1], [0, 1], color='grey', lw=lw, linestyle='--')\n",
    "\n",
    "# title\n",
    "plt.title('ROC curve')\n",
    "# x label\n",
    "plt.xlabel('False Positive Rate (1-Specificity)')\n",
    "# y label\n",
    "plt.ylabel('True Positive Rate (Sensitivity)')\n",
    "\n",
    "plt.legend(loc='lower right')\n",
    "plt.savefig('ROC',dpi=500)\n",
    "plt.xlim(-0.05,1.02)    # remove the space from the curve to the axes\n",
    "plt.ylim(-0.05,1.05)\n",
    "\n",
    "\n",
    "plt.show()"
   ]
  },
  {
   "cell_type": "code",
   "execution_count": 22,
   "metadata": {},
   "outputs": [],
   "source": [
    "# 2 - accuracy on test sets"
   ]
  },
  {
   "cell_type": "code",
   "execution_count": 23,
   "metadata": {},
   "outputs": [
    {
     "name": "stdout",
     "output_type": "stream",
     "text": [
      "0.8245823389021479 0.8344868735083533 1.0 0.889618138424821 0.8596658711217183 0.8039379474940335\n"
     ]
    }
   ],
   "source": [
    "acc1 = model1.score(X,y)\n",
    "acc2 = model2.score(X,y)\n",
    "acc3 = model3.score(X,y)\n",
    "acc4 = model4.score(X,y)\n",
    "## acc5 = model5.score(X_train,y_train)\n",
    "acc6 = model6.score(X,y)\n",
    "acc7 = model7.score(X,y)\n",
    "print(acc1,acc2,acc3,acc4,acc6,acc7)"
   ]
  },
  {
   "cell_type": "code",
   "execution_count": 24,
   "metadata": {},
   "outputs": [],
   "source": [
    "import warnings\n",
    "import pandas\n",
    "from sklearn import model_selection\n",
    "from sklearn.metrics import log_loss\n",
    "from sklearn.metrics import precision_recall_fscore_support as score, precision_score, recall_score, f1_score\n",
    "\n",
    "warnings.filterwarnings('ignore')"
   ]
  },
  {
   "cell_type": "code",
   "execution_count": 25,
   "metadata": {},
   "outputs": [
    {
     "name": "stdout",
     "output_type": "stream",
     "text": [
      "0.828563995837669 0.8904519604908709 1.0 0.8985206332727744 0.8645294725956567 0.8425036390101892\n"
     ]
    }
   ],
   "source": [
    "# 3-precision\n",
    "precision1 = precision_score(y, pred1)\n",
    "precision2 = precision_score(y, pred2)\n",
    "precision3 = precision_score(y, pred3)\n",
    "precision4 = precision_score(y, pred4)\n",
    "## precision5 = precision_score(y_test, pred5)\n",
    "precision6 = precision_score(y, pred6)\n",
    "precision7 = precision_score(y, pred7)\n",
    "print(precision1,precision2,precision3,precision4,precision6,precision7)"
   ]
  },
  {
   "cell_type": "code",
   "execution_count": 26,
   "metadata": {},
   "outputs": [
    {
     "name": "stdout",
     "output_type": "stream",
     "text": [
      "0.7970470470470471 0.7444944944944945 1.0 0.8663663663663663 0.8368368368368369 0.7242242242242243\n"
     ]
    }
   ],
   "source": [
    "# 4 - recall / sensitivity\n",
    "\n",
    "recall1 = recall_score(y, pred1)\n",
    "recall2 = recall_score(y, pred2)\n",
    "recall3 = recall_score(y, pred3)\n",
    "recall4 = recall_score(y, pred4)\n",
    "## recall5 = recall_score(y_test, pred5)\n",
    "recall6 = recall_score(y, pred6)\n",
    "recall7 = recall_score(y,pred7)\n",
    "\n",
    "print(recall1,recall2,recall3,recall4,recall6,recall7)"
   ]
  },
  {
   "cell_type": "code",
   "execution_count": 27,
   "metadata": {},
   "outputs": [
    {
     "name": "stdout",
     "output_type": "stream",
     "text": [
      "0.8125 0.8109581572849938 1.0 0.882150592432157 0.8504577822990845 0.7788992060287984\n"
     ]
    }
   ],
   "source": [
    "# 5-F1\n",
    "\n",
    "f11 = f1_score(y, pred1)\n",
    "f12 = f1_score(y, pred2)\n",
    "f13 = f1_score(y, pred3)\n",
    "f14 = f1_score(y, pred4)\n",
    "#f15 = f1_score(y_test, pred5)\n",
    "f16 = f1_score(y, pred6)\n",
    "f17 = f1_score(y, pred7)\n",
    "\n",
    "print(f11,f12,f13,f14,f16,f17)"
   ]
  },
  {
   "cell_type": "code",
   "execution_count": 28,
   "metadata": {},
   "outputs": [
    {
     "name": "stdout",
     "output_type": "stream",
     "text": [
      "0.389737852737084 0.3672707640561493 0.1051076571853426 0.2673826420669547 0.3175433585004154 0.5436887404015525\n"
     ]
    }
   ],
   "source": [
    "# 6-log-loss\n",
    "\n",
    "log1 = log_loss(y, pred_prob1)\n",
    "log2 = log_loss(y, pred_prob2)\n",
    "log3 = log_loss(y, pred_prob3)\n",
    "log4 = log_loss(y, pred_prob4)\n",
    "# log5 = log_loss(y_test, pred_prob5)\n",
    "log6 = log_loss(y, pred_prob6)\n",
    "log7 = log_loss(y, pred_prob7)\n",
    "\n",
    "print(log1,log2,log3,log4,log6,log7)"
   ]
  },
  {
   "cell_type": "code",
   "execution_count": 29,
   "metadata": {},
   "outputs": [
    {
     "name": "stdout",
     "output_type": "stream",
     "text": [
      "0.8496806569343066 0.9165145985401459 1.0 0.9108120437956204 0.8804744525547445 0.8765967153284672\n"
     ]
    }
   ],
   "source": [
    "# 7-Specificity\n",
    "\n",
    "# 没有具体的接口计算specificity，但是可以创建confusion matrix，然后通过 TP,Fn,FP,TN这些指标来计算\n",
    "\n",
    "from sklearn.metrics import confusion_matrix\n",
    "\n",
    "# TN = CM[0][0]\n",
    "# FN = CM[1][0]\n",
    "# TP = CM[1][1]\n",
    "# FP = CM[0][1]\n",
    "\n",
    "cm1 = confusion_matrix(y,pred1)   # 创建行是真实值，列是预测值\n",
    "cm2 = confusion_matrix(y,pred2) \n",
    "cm3 = confusion_matrix(y,pred3) \n",
    "cm4 = confusion_matrix(y,pred4) \n",
    "# cm5 = confusion_matrix(y_test,pred5)\n",
    "cm6 = confusion_matrix(y,pred6)\n",
    "cm7 = confusion_matrix(y,pred7)\n",
    "\n",
    "\n",
    "# sensitivity1 = cm1[1,1]/(cm1[1,0]+cm1[1,1])      #特异度 TN/(TN+FP)\n",
    "\n",
    "specificity1 = cm1[0,0]/(cm1[0,0]+cm1[0,1])\n",
    "specificity2 = cm2[0,0]/(cm2[0,0]+cm2[0,1])\n",
    "specificity3 = cm3[0,0]/(cm3[0,0]+cm3[0,1])\n",
    "specificity4 = cm4[0,0]/(cm4[0,0]+cm4[0,1])\n",
    "#specificity5 = cm5[0,0]/(cm5[0,0]+cm5[0,1])\n",
    "specificity6 = cm6[0,0]/(cm6[0,0]+cm6[0,1])\n",
    "specificity7 = cm7[0,0]/(cm7[0,0]+cm7[0,1])\n",
    "\n",
    "\n",
    "print(specificity1,specificity2,specificity3,specificity4,specificity6,specificity7)"
   ]
  },
  {
   "cell_type": "code",
   "execution_count": null,
   "metadata": {},
   "outputs": [],
   "source": []
  },
  {
   "cell_type": "code",
   "execution_count": null,
   "metadata": {},
   "outputs": [],
   "source": []
  },
  {
   "cell_type": "code",
   "execution_count": null,
   "metadata": {},
   "outputs": [],
   "source": []
  }
 ],
 "metadata": {
  "kernelspec": {
   "display_name": "Python 3",
   "language": "python",
   "name": "python3"
  },
  "language_info": {
   "codemirror_mode": {
    "name": "ipython",
    "version": 3
   },
   "file_extension": ".py",
   "mimetype": "text/x-python",
   "name": "python",
   "nbconvert_exporter": "python",
   "pygments_lexer": "ipython3",
   "version": "3.7.3"
  }
 },
 "nbformat": 4,
 "nbformat_minor": 2
}
