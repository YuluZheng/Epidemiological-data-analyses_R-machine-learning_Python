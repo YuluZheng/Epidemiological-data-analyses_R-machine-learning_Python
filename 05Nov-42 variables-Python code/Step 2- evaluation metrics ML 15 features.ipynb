{
 "cells": [
  {
   "cell_type": "code",
   "execution_count": 1,
   "metadata": {},
   "outputs": [
    {
     "name": "stderr",
     "output_type": "stream",
     "text": [
      "In C:\\Users\\93513\\Anaconda3\\lib\\site-packages\\matplotlib\\mpl-data\\stylelib\\_classic_test.mplstyle: \n",
      "The savefig.frameon rcparam was deprecated in Matplotlib 3.1 and will be removed in 3.3.\n",
      "In C:\\Users\\93513\\Anaconda3\\lib\\site-packages\\matplotlib\\mpl-data\\stylelib\\_classic_test.mplstyle: \n",
      "The verbose.level rcparam was deprecated in Matplotlib 3.1 and will be removed in 3.3.\n",
      "In C:\\Users\\93513\\Anaconda3\\lib\\site-packages\\matplotlib\\mpl-data\\stylelib\\_classic_test.mplstyle: \n",
      "The verbose.fileo rcparam was deprecated in Matplotlib 3.1 and will be removed in 3.3.\n"
     ]
    },
    {
     "data": {
      "text/html": [
       "<div>\n",
       "<style scoped>\n",
       "    .dataframe tbody tr th:only-of-type {\n",
       "        vertical-align: middle;\n",
       "    }\n",
       "\n",
       "    .dataframe tbody tr th {\n",
       "        vertical-align: top;\n",
       "    }\n",
       "\n",
       "    .dataframe thead th {\n",
       "        text-align: right;\n",
       "    }\n",
       "</style>\n",
       "<table border=\"1\" class=\"dataframe\">\n",
       "  <thead>\n",
       "    <tr style=\"text-align: right;\">\n",
       "      <th></th>\n",
       "      <th>No</th>\n",
       "      <th>IS</th>\n",
       "      <th>Age</th>\n",
       "      <th>NeuP</th>\n",
       "      <th>NeuC</th>\n",
       "      <th>MonP</th>\n",
       "      <th>LymP</th>\n",
       "      <th>Hgb</th>\n",
       "      <th>RDW-CV</th>\n",
       "      <th>MCV</th>\n",
       "      <th>MCHC</th>\n",
       "      <th>UA</th>\n",
       "      <th>CG</th>\n",
       "      <th>AKP</th>\n",
       "      <th>TP</th>\n",
       "      <th>TC</th>\n",
       "      <th>HDL-C</th>\n",
       "    </tr>\n",
       "  </thead>\n",
       "  <tbody>\n",
       "    <tr>\n",
       "      <th>10471</th>\n",
       "      <td>10112</td>\n",
       "      <td>0</td>\n",
       "      <td>80</td>\n",
       "      <td>53.1</td>\n",
       "      <td>1.73</td>\n",
       "      <td>5.9</td>\n",
       "      <td>38.5</td>\n",
       "      <td>156</td>\n",
       "      <td>12.8</td>\n",
       "      <td>96.1</td>\n",
       "      <td>349</td>\n",
       "      <td>193</td>\n",
       "      <td>27.9</td>\n",
       "      <td>50</td>\n",
       "      <td>71.3</td>\n",
       "      <td>3.88</td>\n",
       "      <td>1.59</td>\n",
       "    </tr>\n",
       "    <tr>\n",
       "      <th>10472</th>\n",
       "      <td>11993</td>\n",
       "      <td>0</td>\n",
       "      <td>80</td>\n",
       "      <td>68.4</td>\n",
       "      <td>4.41</td>\n",
       "      <td>7.3</td>\n",
       "      <td>20.6</td>\n",
       "      <td>154</td>\n",
       "      <td>12.1</td>\n",
       "      <td>98.0</td>\n",
       "      <td>350</td>\n",
       "      <td>290</td>\n",
       "      <td>28.0</td>\n",
       "      <td>74</td>\n",
       "      <td>71.1</td>\n",
       "      <td>4.59</td>\n",
       "      <td>1.60</td>\n",
       "    </tr>\n",
       "    <tr>\n",
       "      <th>10473</th>\n",
       "      <td>10759</td>\n",
       "      <td>0</td>\n",
       "      <td>80</td>\n",
       "      <td>53.4</td>\n",
       "      <td>3.04</td>\n",
       "      <td>7.9</td>\n",
       "      <td>37.5</td>\n",
       "      <td>137</td>\n",
       "      <td>14.2</td>\n",
       "      <td>101.0</td>\n",
       "      <td>329</td>\n",
       "      <td>268</td>\n",
       "      <td>22.7</td>\n",
       "      <td>77</td>\n",
       "      <td>64.1</td>\n",
       "      <td>5.44</td>\n",
       "      <td>1.83</td>\n",
       "    </tr>\n",
       "    <tr>\n",
       "      <th>10474</th>\n",
       "      <td>7073</td>\n",
       "      <td>0</td>\n",
       "      <td>80</td>\n",
       "      <td>54.9</td>\n",
       "      <td>2.25</td>\n",
       "      <td>4.9</td>\n",
       "      <td>26.1</td>\n",
       "      <td>117</td>\n",
       "      <td>13.3</td>\n",
       "      <td>100.0</td>\n",
       "      <td>318</td>\n",
       "      <td>624</td>\n",
       "      <td>25.4</td>\n",
       "      <td>36</td>\n",
       "      <td>66.5</td>\n",
       "      <td>4.21</td>\n",
       "      <td>1.93</td>\n",
       "    </tr>\n",
       "    <tr>\n",
       "      <th>10475</th>\n",
       "      <td>9661</td>\n",
       "      <td>0</td>\n",
       "      <td>80</td>\n",
       "      <td>60.2</td>\n",
       "      <td>4.00</td>\n",
       "      <td>6.4</td>\n",
       "      <td>26.3</td>\n",
       "      <td>164</td>\n",
       "      <td>14.6</td>\n",
       "      <td>97.0</td>\n",
       "      <td>316</td>\n",
       "      <td>472</td>\n",
       "      <td>30.1</td>\n",
       "      <td>69</td>\n",
       "      <td>72.4</td>\n",
       "      <td>6.50</td>\n",
       "      <td>1.96</td>\n",
       "    </tr>\n",
       "  </tbody>\n",
       "</table>\n",
       "</div>"
      ],
      "text/plain": [
       "          No  IS  Age  NeuP  NeuC  MonP  LymP  Hgb  RDW-CV    MCV  MCHC   UA  \\\n",
       "10471  10112   0   80  53.1  1.73   5.9  38.5  156    12.8   96.1   349  193   \n",
       "10472  11993   0   80  68.4  4.41   7.3  20.6  154    12.1   98.0   350  290   \n",
       "10473  10759   0   80  53.4  3.04   7.9  37.5  137    14.2  101.0   329  268   \n",
       "10474   7073   0   80  54.9  2.25   4.9  26.1  117    13.3  100.0   318  624   \n",
       "10475   9661   0   80  60.2  4.00   6.4  26.3  164    14.6   97.0   316  472   \n",
       "\n",
       "         CG  AKP    TP    TC  HDL-C  \n",
       "10471  27.9   50  71.3  3.88   1.59  \n",
       "10472  28.0   74  71.1  4.59   1.60  \n",
       "10473  22.7   77  64.1  5.44   1.83  \n",
       "10474  25.4   36  66.5  4.21   1.93  \n",
       "10475  30.1   69  72.4  6.50   1.96  "
      ]
     },
     "execution_count": 1,
     "metadata": {},
     "output_type": "execute_result"
    }
   ],
   "source": [
    "import matplotlib.pyplot as plt\n",
    "import pandas as pd\n",
    "import numpy as np\n",
    "from sklearn.datasets import make_classification\n",
    "from sklearn.model_selection import train_test_split\n",
    "from sklearn.model_selection import train_test_split, GridSearchCV\n",
    "\n",
    "\n",
    "# generate two class dataset\n",
    "data = pd.read_csv(\"10476 - 15 features.csv\")\n",
    "data.tail()"
   ]
  },
  {
   "cell_type": "code",
   "execution_count": 2,
   "metadata": {},
   "outputs": [
    {
     "name": "stdout",
     "output_type": "stream",
     "text": [
      "(10476, 15)\n",
      "(10476,)\n"
     ]
    }
   ],
   "source": [
    "data=data.drop(['No'],axis=1)\n",
    "# Split target and features\n",
    "X = data.drop(['IS'],axis=1)\n",
    "X\n",
    "y = data['IS']\n",
    "y = y.astype(int)\n",
    "y\n",
    "print(X.shape)\n",
    "print(y.shape)\n",
    "\n",
    "# Splitting the dataset into the Training set and Test set\n",
    "from sklearn.model_selection import train_test_split\n",
    "\n",
    "# first one\n",
    "X_train, X_test, y_train, y_test = train_test_split(X, y, train_size=0.8,test_size=0.2, random_state=5)\n"
   ]
  },
  {
   "cell_type": "code",
   "execution_count": 3,
   "metadata": {},
   "outputs": [
    {
     "name": "stderr",
     "output_type": "stream",
     "text": [
      "C:\\Users\\93513\\Anaconda3\\lib\\site-packages\\dask\\dataframe\\utils.py:15: FutureWarning: pandas.util.testing is deprecated. Use the functions in the public API at pandas.testing instead.\n",
      "  import pandas.util.testing as tm\n"
     ]
    }
   ],
   "source": [
    "# train models\n",
    "from sklearn.linear_model import LogisticRegression\n",
    "from sklearn.neighbors import KNeighborsClassifier\n",
    "from sklearn.ensemble import RandomForestClassifier\n",
    "from xgboost.sklearn import XGBClassifier\n",
    "from sklearn.linear_model import ElasticNet\n",
    "from sklearn.neural_network import MLPClassifier\n",
    "from sklearn.naive_bayes import GaussianNB\n",
    "\n",
    "\n",
    "\n",
    "# logistic regression\n",
    "model1 = LogisticRegression(C=0.21)\n",
    "# knn\n",
    "model2 = KNeighborsClassifier(n_neighbors=31)\n",
    "# RF\n",
    "model3 = RandomForestClassifier(random_state=25,criterion='entropy',n_estimators=198)\n",
    "\n",
    "# XGBoost\n",
    "model4 = XGBClassifier(learning_rate=0.01, n_estimators=1000, silent=0, gamma=0.2, subsample=0.75, \n",
    "                       objective='binary:logistic', reg_alpha=1, reg_lambda=1,seed=27,\n",
    "                      max_depth=5, min_child_weight=1)\n",
    "\n",
    "## elastic net\n",
    "##model5 = ElasticNet(alpha=0.001, l1_ratio=0.1)\n",
    "\n",
    "# neural network\n",
    "model6 = MLPClassifier(alpha=0.01, hidden_layer_sizes=19)\n",
    "\n",
    "# GaussianNB\n",
    "model7=GaussianNB() ##因为唯一参数 var_smoothing设置为非默认值时， evaluation metrics的值很不理想\n",
    "\n",
    "## 所以此处直接就是 by default 来设置"
   ]
  },
  {
   "cell_type": "code",
   "execution_count": 4,
   "metadata": {},
   "outputs": [
    {
     "name": "stderr",
     "output_type": "stream",
     "text": [
      "C:\\Users\\93513\\Anaconda3\\lib\\site-packages\\sklearn\\linear_model\\_logistic.py:764: ConvergenceWarning: lbfgs failed to converge (status=1):\n",
      "STOP: TOTAL NO. of ITERATIONS REACHED LIMIT.\n",
      "\n",
      "Increase the number of iterations (max_iter) or scale the data as shown in:\n",
      "    https://scikit-learn.org/stable/modules/preprocessing.html\n",
      "Please also refer to the documentation for alternative solver options:\n",
      "    https://scikit-learn.org/stable/modules/linear_model.html#logistic-regression\n",
      "  extra_warning_msg=_LOGISTIC_SOLVER_CONVERGENCE_MSG)\n"
     ]
    },
    {
     "name": "stdout",
     "output_type": "stream",
     "text": [
      "[11:29:52] WARNING: C:\\Users\\Administrator\\workspace\\xgboost-win64_release_1.2.0\\src\\learner.cc:516: \n",
      "Parameters: { silent } might not be used.\n",
      "\n",
      "  This may not be accurate due to some parameters are only used in language bindings but\n",
      "  passed down to XGBoost core.  Or some parameters are not used but slip through this\n",
      "  verification. Please open an issue if you find above cases.\n",
      "\n",
      "\n"
     ]
    }
   ],
   "source": [
    "# fit model\n",
    "model1.fit(X_train, y_train)\n",
    "model2.fit(X_train, y_train)\n",
    "model3.fit(X_train, y_train)\n",
    "model4.fit(X_train, y_train)\n",
    "## model5.fit(X_train, y_train)\n",
    "model6.fit(X_train, y_train)\n",
    "model7.fit(X_train, y_train)\n",
    "\n",
    "# predict probabilities\n",
    "pred_prob1 = model1.predict_proba(X_test)\n",
    "pred_prob2 = model2.predict_proba(X_test)\n",
    "pred_prob3 = model3.predict_proba(X_test)\n",
    "pred_prob4 = model4.predict_proba(X_test)\n",
    "## pred_prob5 = model5.predict(X_test)\n",
    "pred_prob6 = model6.predict_proba(X_test)\n",
    "pred_prob7 = model7.predict_proba(X_test)"
   ]
  },
  {
   "cell_type": "code",
   "execution_count": 5,
   "metadata": {},
   "outputs": [],
   "source": [
    "pred1 = model1.predict(X_test)\n",
    "pred2 = model2.predict(X_test)\n",
    "pred3 = model3.predict(X_test)\n",
    "pred4 = model4.predict(X_test)\n",
    "## pred5 = model5.predict(X_test)\n",
    "pred6 = model6.predict(X_test)\n",
    "pred7 = model7.predict(X_test)"
   ]
  },
  {
   "cell_type": "code",
   "execution_count": 6,
   "metadata": {},
   "outputs": [
    {
     "name": "stdout",
     "output_type": "stream",
     "text": [
      "[1 1 1 ... 1 0 0]\n",
      "[1 0 1 ... 0 0 0]\n",
      "[1 1 1 ... 1 0 0]\n"
     ]
    }
   ],
   "source": [
    "print(pred1)\n",
    "print(pred2)\n",
    "print(pred3)"
   ]
  },
  {
   "cell_type": "code",
   "execution_count": 7,
   "metadata": {},
   "outputs": [],
   "source": [
    "from sklearn.metrics import roc_curve\n",
    "from sklearn.metrics import roc_auc_score, roc_curve\n",
    "\n",
    "# roc curve for models\n",
    "fpr1, tpr1, thresh1 = roc_curve(y_test, pred_prob1[:,1], pos_label=1)\n",
    "fpr2, tpr2, thresh2 = roc_curve(y_test, pred_prob2[:,1], pos_label=1)\n",
    "fpr3, tpr3, thresh3 = roc_curve(y_test, pred_prob3[:,1], pos_label=1)\n",
    "fpr4, tpr4, thresh4 = roc_curve(y_test, pred_prob4[:,1], pos_label=1)\n",
    "## fpr5, tpr5, thresh5 = roc_curve(y_test, pred_prob5, pos_label=1)\n",
    "fpr6, tpr6, thresh6 = roc_curve(y_test, pred_prob6[:,1], pos_label=1)\n",
    "fpr7, tpr7, thresh7 = roc_curve(y_test, pred_prob7[:,1], pos_label=1)\n",
    "\n",
    "# roc curve for tpr = fpr \n",
    "random_probs = [0 for i in range(len(y_test))]\n",
    "p_fpr, p_tpr, _ = roc_curve(y_test, random_probs, pos_label=1)\n",
    "\n",
    "# pos_label : 整数或者字符串, 默认None，表示被认为是正类样本的类别, 可以不填，因为运行三五十个点后就可以看到ROC曲线了"
   ]
  },
  {
   "cell_type": "code",
   "execution_count": 8,
   "metadata": {},
   "outputs": [],
   "source": [
    "# AUC score can be computed using the roc_auc_score() method of sklearn:\n",
    "\n",
    "\n",
    "### 因为 elastic net的很多evaluation metrics 不能显示，所以接下来注掉 model5\n",
    "\n",
    "from sklearn.metrics import roc_auc_score\n",
    "\n"
   ]
  },
  {
   "cell_type": "code",
   "execution_count": 9,
   "metadata": {},
   "outputs": [
    {
     "name": "stdout",
     "output_type": "stream",
     "text": [
      "0.8955596500845857 0.8722563024605184 1.0 0.9656437948651619 0.8986282997667518 0.8874887483606713\n"
     ]
    }
   ],
   "source": [
    "# 1 - auc scores  training set\n",
    "\n",
    "pred1train = model1.predict(X_train)\n",
    "pred2train = model2.predict(X_train)\n",
    "pred3train = model3.predict(X_train)\n",
    "pred4train = model4.predict(X_train)\n",
    "## pred5train = model5.predict(X_train)\n",
    "pred6train = model6.predict(X_train)\n",
    "pred7train = model7.predict(X_train)\n",
    "\n",
    "\n",
    "# predict probabilities\n",
    "pred_prob1train = model1.predict_proba(X_train)\n",
    "pred_prob2train = model2.predict_proba(X_train)\n",
    "pred_prob3train = model3.predict_proba(X_train)\n",
    "pred_prob4train = model4.predict_proba(X_train)\n",
    "## pred_prob5train = model5.predict(X_train)\n",
    "pred_prob6train = model6.predict_proba(X_train)\n",
    "pred_prob7train = model7.predict_proba(X_train)\n",
    "\n",
    "auc_score1train = roc_auc_score(y_train, pred_prob1train[:,1])\n",
    "auc_score2train = roc_auc_score(y_train, pred_prob2train[:,1])\n",
    "auc_score3train = roc_auc_score(y_train, pred_prob3train[:,1])\n",
    "auc_score4train = roc_auc_score(y_train, pred_prob4train[:,1])\n",
    "## auc_score5train = roc_auc_score(y_train, pred_prob5)\n",
    "auc_score6train = roc_auc_score(y_train, pred_prob6train[:,1])\n",
    "auc_score7train = roc_auc_score(y_train, pred_prob7train[:,1])\n",
    "\n",
    "\n",
    "\n",
    "print(auc_score1train, auc_score2train, auc_score3train, auc_score4train,auc_score6train,auc_score7train)"
   ]
  },
  {
   "cell_type": "code",
   "execution_count": 10,
   "metadata": {},
   "outputs": [],
   "source": [
    "def bootstrap_auc(model1, X_train, y_train, X_test, y_test, nsamples=1000):\n",
    "    auc_values1 = []\n",
    "    for b in range(nsamples):\n",
    "        idx1 = np.random.randint(X_train.shape[0], size=X_train.shape[0])\n",
    "        model1.fit(X_train[idx1], y_train[idx1])\n",
    "        pred1_ = model1.predict_proba(X_test)[:, 1]\n",
    "        roc_auc1 = roc_auc_score(y_test.ravel(), pred1_.ravel())\n",
    "        auc_values1.append(roc_auc1)\n",
    "    return np.percentile(auc_values1, (2.5, 97.5))"
   ]
  },
  {
   "cell_type": "code",
   "execution_count": 11,
   "metadata": {},
   "outputs": [
    {
     "name": "stdout",
     "output_type": "stream",
     "text": [
      "0.8992572276205332 0.8584165844854637 0.9181229357948538 0.9248759086600321 0.9010866130690421 0.8867820754828659\n"
     ]
    }
   ],
   "source": [
    "# 1 - auc scores testing set\n",
    "auc_score1 = roc_auc_score(y_test, pred_prob1[:,1])\n",
    "auc_score2 = roc_auc_score(y_test, pred_prob2[:,1])\n",
    "auc_score3 = roc_auc_score(y_test, pred_prob3[:,1])\n",
    "auc_score4 = roc_auc_score(y_test, pred_prob4[:,1])\n",
    "## auc_score5 = roc_auc_score(y_test, pred_prob5)\n",
    "auc_score6 = roc_auc_score(y_test, pred_prob6[:,1])\n",
    "auc_score7 = roc_auc_score(y_test, pred_prob7[:,1])\n",
    "\n",
    "\n",
    "\n",
    "print(auc_score1, auc_score2, auc_score3, auc_score4,auc_score6,auc_score7)"
   ]
  },
  {
   "cell_type": "code",
   "execution_count": 12,
   "metadata": {},
   "outputs": [],
   "source": [
    "## Calculating 95% CI for AUC\n",
    "\n",
    "#### https://www.google.com/imgres?imgurl=https%3A%2F%2Fi.stack.imgur.com%2FzFGNa.png&imgrefurl=https%3A%2F%2Fstackoverflow.com%2Fquestions%2F50437354%2Fhow-to-calculate-95-confidence-interval-for-auc-from-confusion-matrix&tbnid=vFftbLzgp01LlM&vet=12ahUKEwintYqzxozzAhUTUn0KHQfoDFkQMygAegUIARCqAQ..i&docid=jK-T-QoSUo5GyM&w=1622&h=836&q=calculating%20confidence%20interval%20auc%20python&ved=2ahUKEwintYqzxozzAhUTUn0KHQfoDFkQMygAegUIARCqAQ\n",
    "\n",
    "\n",
    "### https://gist.github.com/doraneko94/e24643136cfb8baf03ef8a314ab9615c"
   ]
  },
  {
   "cell_type": "code",
   "execution_count": 13,
   "metadata": {},
   "outputs": [],
   "source": [
    "from math import sqrt"
   ]
  },
  {
   "cell_type": "code",
   "execution_count": 14,
   "metadata": {},
   "outputs": [
    {
     "name": "stdout",
     "output_type": "stream",
     "text": [
      "1037 1059\n",
      "0.8169549236981279 0.8515577033669043\n",
      "0.00701633783243061\n",
      "0.8992572276205332\n",
      "0.8855052054689692 0.9130092497720972\n"
     ]
    }
   ],
   "source": [
    "## model 1-LR\n",
    "\n",
    "N1 = sum(y_test == 1)\n",
    "N2 = sum(y_test != 1)\n",
    "print (N1, N2)\n",
    "\n",
    "Q1_1 = auc_score1 / (2 - auc_score1)\n",
    "Q2_1 = 2*auc_score1**2 / (1 + auc_score1)\n",
    "print (Q1_1, Q2_1)\n",
    "\n",
    "SE_AUC_1 = sqrt((auc_score1*(1-auc_score1)+(N1-1)*(Q1_1- auc_score1**2)+(N2-1)*(Q2_1-auc_score1**2))/(N1*N2))\n",
    "lower1 = auc_score1 - 1.96*SE_AUC_1\n",
    "upper1 = auc_score1 + 1.96*SE_AUC_1\n",
    "print(SE_AUC_1)\n",
    "print(auc_score1)\n",
    "print(lower1,upper1)"
   ]
  },
  {
   "cell_type": "code",
   "execution_count": 15,
   "metadata": {},
   "outputs": [
    {
     "name": "stdout",
     "output_type": "stream",
     "text": [
      "0.7519525711562275 0.7930181410038454\n",
      "0.008271375151474218\n",
      "0.8584165844854637\n",
      "0.8422046891885742 0.8746284797823531\n"
     ]
    }
   ],
   "source": [
    "## model 2 - k-NN\n",
    "\n",
    "Q1_2 = auc_score2 / (2 - auc_score2)\n",
    "Q2_2 = 2*auc_score2**2 / (1 + auc_score2)\n",
    "print (Q1_2, Q2_2)\n",
    "\n",
    "SE_AUC_2 = sqrt((auc_score2*(1-auc_score2)+(N1-1)*(Q1_2- auc_score2**2)+(N2-1)*(Q2_2-auc_score2**2))/(N1*N2))\n",
    "lower2 = auc_score2 - 1.96*SE_AUC_2\n",
    "upper2 = auc_score2 + 1.96*SE_AUC_2\n",
    "print(SE_AUC_2)\n",
    "print(auc_score2)\n",
    "print(lower2,upper2)"
   ]
  },
  {
   "cell_type": "code",
   "execution_count": 16,
   "metadata": {},
   "outputs": [
    {
     "name": "stdout",
     "output_type": "stream",
     "text": [
      "0.8486388760532582 0.8789319073370551\n",
      "0.006332538319151879\n",
      "0.9181229357948538\n",
      "0.9057111606893161 0.9305347109003915\n"
     ]
    }
   ],
   "source": [
    "## model 3 - RF\n",
    "\n",
    "Q1_3 = auc_score3 / (2 - auc_score3)\n",
    "Q2_3 = 2*auc_score3**2 / (1 + auc_score3)\n",
    "print (Q1_3, Q2_3)\n",
    "\n",
    "SE_AUC_3 = sqrt((auc_score3*(1-auc_score3)+(N1-1)*(Q1_3- auc_score3**2)+(N2-1)*(Q2_3-auc_score3**2))/(N1*N2))\n",
    "lower3 = auc_score3 - 1.96*SE_AUC_3\n",
    "upper3 = auc_score3 + 1.96*SE_AUC_3\n",
    "print(SE_AUC_3)\n",
    "print(auc_score3)\n",
    "print(lower3,upper3)"
   ]
  },
  {
   "cell_type": "code",
   "execution_count": 17,
   "metadata": {},
   "outputs": [
    {
     "name": "stdout",
     "output_type": "stream",
     "text": [
      "0.8602503805001005 0.8887798351792852\n",
      "0.006066806276076963\n",
      "0.9248759086600321\n",
      "0.9129849683589213 0.9367668489611429\n"
     ]
    }
   ],
   "source": [
    "## model 4 - XGBoost\n",
    "\n",
    "Q1_4 = auc_score4 / (2 - auc_score4)\n",
    "Q2_4 = 2*auc_score4**2 / (1 + auc_score4)\n",
    "print (Q1_4, Q2_4)\n",
    "\n",
    "SE_AUC_4 = sqrt((auc_score4*(1-auc_score4)+(N1-1)*(Q1_4- auc_score4**2)+(N2-1)*(Q2_4-auc_score4**2))/(N1*N2))\n",
    "lower4 = auc_score4 - 1.96*SE_AUC_4\n",
    "upper4 = auc_score4 + 1.96*SE_AUC_4\n",
    "print(SE_AUC_4)\n",
    "print(auc_score4)\n",
    "print(lower4,upper4)"
   ]
  },
  {
   "cell_type": "code",
   "execution_count": 18,
   "metadata": {},
   "outputs": [
    {
     "name": "stdout",
     "output_type": "stream",
     "text": [
      "0.819979648792517 0.8542031474741122\n",
      "0.006953396339770348\n",
      "0.9010866130690421\n",
      "0.8874579562430922 0.9147152698949921\n"
     ]
    }
   ],
   "source": [
    "## model 6 - NN\n",
    "\n",
    "Q1_6 = auc_score6 / (2 - auc_score6)\n",
    "Q2_6 = 2*auc_score6**2 / (1 + auc_score6)\n",
    "print (Q1_6, Q2_6)\n",
    "\n",
    "SE_AUC_6 = sqrt((auc_score6*(1-auc_score6)+(N1-1)*(Q1_6- auc_score6**2)+(N2-1)*(Q2_6-auc_score6**2))/(N1*N2))\n",
    "lower6 = auc_score6 - 1.96*SE_AUC_6\n",
    "upper6 = auc_score6 + 1.96*SE_AUC_6\n",
    "print(SE_AUC_6)\n",
    "print(auc_score6)\n",
    "print(lower6,upper6)"
   ]
  },
  {
   "cell_type": "code",
   "execution_count": 19,
   "metadata": {},
   "outputs": [
    {
     "name": "stdout",
     "output_type": "stream",
     "text": [
      "0.7965934216047713 0.8335699809915229\n",
      "0.007428669686737008\n",
      "0.8867820754828659\n",
      "0.8722218828968614 0.9013422680688704\n"
     ]
    }
   ],
   "source": [
    "## model 7 - GaussianNB\n",
    "\n",
    "Q1_7 = auc_score7 / (2 - auc_score7)\n",
    "Q2_7 = 2*auc_score7**2 / (1 + auc_score7)\n",
    "print (Q1_7, Q2_7)\n",
    "\n",
    "SE_AUC_7 = sqrt((auc_score7*(1-auc_score7)+(N1-1)*(Q1_7- auc_score7**2)+(N2-1)*(Q2_7-auc_score7**2))/(N1*N2))\n",
    "lower7 = auc_score7 - 1.96*SE_AUC_7\n",
    "upper7 = auc_score7 + 1.96*SE_AUC_7\n",
    "print(SE_AUC_7)\n",
    "print(auc_score7)\n",
    "print(lower7,upper7)"
   ]
  },
  {
   "cell_type": "code",
   "execution_count": 20,
   "metadata": {},
   "outputs": [
    {
     "data": {
      "image/png": "[encoded data removed]",
      "text/plain": [
       "<Figure size 576x576 with 1 Axes>"
      ]
     },
     "metadata": {
      "needs_background": "light"
     },
     "output_type": "display_data"
    }
   ],
   "source": [
    "# plot the ROC curves for the two algorithms using matplotlib:\n",
    "# Ref: https://github.com/stanfordmlgroup/influenza-qtof/blob/master/notebooks/VTM_Subtraction.ipynb\n",
    "\n",
    "#name_dict[names[l]] + ' (AUC = %0.2f (95%% CI %0.2f - %0.2f))' % (test_aucs[l], cis[names[l]][0], cis[names[l]][1]))\n",
    "# plot roc curves\n",
    "\n",
    "plt.rc('axes', labelsize=14)    # fontsize of the x and y labels\n",
    "\n",
    "fig = plt.figure(figsize=(8,8))\n",
    "lw = 2\n",
    "\n",
    "plt.plot(fpr1, tpr1,color='#be0119', label= 'LR' + ' AUC = %0.3f (%0.3f - %0.3f)' % (auc_score1, lower1, upper1))\n",
    "plt.plot(fpr2, tpr2,color='#ff9408', label= 'k-NN' + ' AUC = %0.3f (%0.3f - %0.3f)' % (auc_score2, lower2, upper2))\n",
    "plt.plot(fpr3, tpr3,color='#3b638c', label= 'RF' + ' AUC = %0.3f (%0.3f - %0.3f)' % (auc_score3, lower3, upper3))\n",
    "plt.plot(fpr4, tpr4,color='#89fe05', label= 'XGBoost' + ' AUC = %0.3f (%0.3f - %0.3f)' % (auc_score4, lower4, upper4))\n",
    "#plt.plot(fpr5, tpr5,color='#069af3', label='EN (AUC = %0.2f)' % auc_score5)\n",
    "plt.plot(fpr6, tpr6,color='#bf77f6', label= 'NN' + ' AUC = %0.3f (%0.3f - %0.3f)' % (auc_score6, lower6, upper6))\n",
    "plt.plot(fpr7, tpr7,color='#a2cffe', label= 'GaussianNB' + ' AUC = %0.3f (%0.3f - %0.3f)' % (auc_score7, lower7, upper7))\n",
    "plt.plot(p_fpr, p_tpr, linestyle='--', color='black')\n",
    "\n",
    "plt.plot([0, 1], [0, 1], color='grey', lw=lw, linestyle='--')\n",
    "\n",
    "# title\n",
    "plt.title('ROC curve')\n",
    "# x label\n",
    "plt.xlabel('False Positive Rate (1-Specificity)')\n",
    "# y label\n",
    "plt.ylabel('True Positive Rate (Sensitivity)')\n",
    "\n",
    "plt.legend(loc='best')\n",
    "plt.savefig('ROC',dpi=500)\n",
    "plt.xlim(-0.05,1.02)    # remove the space from the curve to the axes\n",
    "plt.ylim(-0.05,1.05)\n",
    "\n",
    "\n",
    "plt.show()"
   ]
  },
  {
   "cell_type": "code",
   "execution_count": 21,
   "metadata": {},
   "outputs": [
    {
     "data": {
      "image/png": "[encoded data removed]",
      "text/plain": [
       "<Figure size 576x576 with 1 Axes>"
      ]
     },
     "metadata": {
      "needs_background": "light"
     },
     "output_type": "display_data"
    }
   ],
   "source": [
    "# plot the ROC curves for the two algorithms using matplotlib:\n",
    "# Ref: https://github.com/stanfordmlgroup/influenza-qtof/blob/master/notebooks/VTM_Subtraction.ipynb\n",
    "\n",
    "#name_dict[names[l]] + ' (AUC = %0.2f (95%% CI %0.2f - %0.2f))' % (test_aucs[l], cis[names[l]][0], cis[names[l]][1]))\n",
    "# plot roc curves\n",
    "\n",
    "plt.rc('axes', labelsize=14)    # fontsize of the x and y labels\n",
    "\n",
    "fig = plt.figure(figsize=(8,8))\n",
    "lw = 2\n",
    "\n",
    "# plt.plot(fpr1, tpr1,color='#be0119', label= 'LR' + ' AUC = %0.3f (%0.3f - %0.3f)' % (auc_score1, lower1, upper1))\n",
    "# plt.plot(fpr2, tpr2,color='#ff9408', label= 'k-NN' + ' AUC = %0.3f (%0.3f - %0.3f)' % (auc_score2, lower2, upper2))\n",
    "# plt.plot(fpr3, tpr3,color='#3b638c', label= 'RF' + ' AUC = %0.3f (%0.3f - %0.3f)' % (auc_score3, lower3, upper3))\n",
    "plt.plot(fpr4, tpr4,color='#89fe05', label= 'XGBoost' + ' AUC = %0.3f (%0.3f - %0.3f)' % (auc_score4, lower4, upper4))\n",
    "#plt.plot(fpr5, tpr5,color='#069af3', label='EN (AUC = %0.2f)' % auc_score5)\n",
    "# plt.plot(fpr6, tpr6,color='#bf77f6', label= 'NN' + ' AUC = %0.3f (%0.3f - %0.3f)' % (auc_score6, lower6, upper6))\n",
    "# plt.plot(fpr7, tpr7,color='#a2cffe', label= 'GaussianNB' + ' AUC = %0.3f (%0.3f - %0.3f)' % (auc_score7, lower7, upper7))\n",
    "# plt.plot(p_fpr, p_tpr, linestyle='--', color='black')\n",
    "\n",
    "plt.plot([0, 1], [0, 1], color='grey', lw=lw, linestyle='--')\n",
    "\n",
    "# title\n",
    "plt.title('ROC curve')\n",
    "# x label\n",
    "plt.xlabel('False Positive Rate (1-Specificity)')\n",
    "# y label\n",
    "plt.ylabel('True Positive Rate (Sensitivity)')\n",
    "\n",
    "plt.legend(loc='lower right')\n",
    "plt.savefig('ROC',dpi=500)\n",
    "plt.xlim(-0.05,1.02)    # remove the space from the curve to the axes\n",
    "plt.ylim(-0.05,1.05)\n",
    "\n",
    "\n",
    "plt.show()"
   ]
  },
  {
   "cell_type": "code",
   "execution_count": 22,
   "metadata": {},
   "outputs": [],
   "source": [
    "# 2 - accuracy on test sets"
   ]
  },
  {
   "cell_type": "code",
   "execution_count": 23,
   "metadata": {},
   "outputs": [],
   "source": [
    "# from sklearn.metrics import mean_squared_error as MSE\n",
    "# MSE(pred5,y_test)"
   ]
  },
  {
   "cell_type": "code",
   "execution_count": 24,
   "metadata": {},
   "outputs": [],
   "source": [
    "# from sklearn.metrics import r2_score\n",
    "# y_pred=model5.predict(X_train)\n",
    "# r2_score(y_train,y_pred)"
   ]
  },
  {
   "cell_type": "code",
   "execution_count": 25,
   "metadata": {},
   "outputs": [
    {
     "name": "stdout",
     "output_type": "stream",
     "text": [
      "0.8153625954198473 0.7695610687022901 0.8301526717557252 0.8444656488549618 0.8120229007633588 0.8029580152671756\n"
     ]
    }
   ],
   "source": [
    "acc1 = model1.score(X_test,y_test)\n",
    "acc2 = model2.score(X_test,y_test)\n",
    "acc3 = model3.score(X_test,y_test)\n",
    "acc4 = model4.score(X_test,y_test)\n",
    "## acc5 = model5.score(X_train,y_train)\n",
    "acc6 = model6.score(X_test,y_test)\n",
    "acc7 = model7.score(X_test,y_test)\n",
    "print(acc1,acc2,acc3,acc4,acc6,acc7)"
   ]
  },
  {
   "cell_type": "code",
   "execution_count": 26,
   "metadata": {},
   "outputs": [],
   "source": [
    "# other metrics"
   ]
  },
  {
   "cell_type": "code",
   "execution_count": 27,
   "metadata": {},
   "outputs": [],
   "source": [
    "import warnings\n",
    "import pandas\n",
    "from sklearn import model_selection\n",
    "from sklearn.metrics import log_loss\n",
    "from sklearn.metrics import precision_recall_fscore_support as score, precision_score, recall_score, f1_score\n",
    "\n",
    "warnings.filterwarnings('ignore')"
   ]
  },
  {
   "cell_type": "code",
   "execution_count": 28,
   "metadata": {},
   "outputs": [
    {
     "name": "stdout",
     "output_type": "stream",
     "text": [
      "0.8302845528455285 0.8105381165919282 0.850669412976313 0.857286432160804 0.7788378143972247 0.8561643835616438\n"
     ]
    }
   ],
   "source": [
    "# 3-precision\n",
    "precision1 = precision_score(y_test, pred1)\n",
    "precision2 = precision_score(y_test, pred2)\n",
    "precision3 = precision_score(y_test, pred3)\n",
    "precision4 = precision_score(y_test, pred4)\n",
    "## precision5 = precision_score(y_test, pred5)\n",
    "precision6 = precision_score(y_test, pred6)\n",
    "precision7 = precision_score(y_test, pred7)\n",
    "print(precision1,precision2,precision3,precision4,precision6,precision7)"
   ]
  },
  {
   "cell_type": "code",
   "execution_count": 29,
   "metadata": {},
   "outputs": [
    {
     "name": "stdout",
     "output_type": "stream",
     "text": [
      "0.7878495660559306 0.6972034715525555 0.7965284474445516 0.8225650916104147 0.8659594985535197 0.7232401157184185\n"
     ]
    }
   ],
   "source": [
    "# 4-recall\n",
    "\n",
    "recall1 = recall_score(y_test, pred1)\n",
    "recall2 = recall_score(y_test, pred2)\n",
    "recall3 = recall_score(y_test, pred3)\n",
    "recall4 = recall_score(y_test, pred4)\n",
    "## recall5 = recall_score(y_test, pred5)\n",
    "recall6 = recall_score(y_test, pred6)\n",
    "recall7 = recall_score(y_test,pred7)\n",
    "\n",
    "print(recall1,recall2,recall3,recall4,recall6,recall7)"
   ]
  },
  {
   "cell_type": "code",
   "execution_count": 30,
   "metadata": {},
   "outputs": [
    {
     "name": "stdout",
     "output_type": "stream",
     "text": [
      "0.8085106382978723 0.7496111975116642 0.8227091633466136 0.8395669291338584 0.8200913242009132 0.7841087297438578\n"
     ]
    }
   ],
   "source": [
    "# 5-F1\n",
    "\n",
    "f11 = f1_score(y_test, pred1)\n",
    "f12 = f1_score(y_test, pred2)\n",
    "f13 = f1_score(y_test, pred3)\n",
    "f14 = f1_score(y_test, pred4)\n",
    "#f15 = f1_score(y_test, pred5)\n",
    "f16 = f1_score(y_test, pred6)\n",
    "f17 = f1_score(y_test, pred7)\n",
    "\n",
    "\n",
    "print(f11,f12,f13,f14,f16,f17)"
   ]
  },
  {
   "cell_type": "code",
   "execution_count": 31,
   "metadata": {},
   "outputs": [
    {
     "name": "stdout",
     "output_type": "stream",
     "text": [
      "0.4013046836072524 0.4796154645353227 0.3696557087544702 0.3470564337074268 0.4124391599155292 0.5488742640548686\n"
     ]
    }
   ],
   "source": [
    "# 6-log-loss\n",
    "\n",
    "log1 = log_loss(y_test, pred_prob1)\n",
    "log2 = log_loss(y_test, pred_prob2)\n",
    "log3 = log_loss(y_test, pred_prob3)\n",
    "log4 = log_loss(y_test, pred_prob4)\n",
    "# log5 = log_loss(y_test, pred_prob5)\n",
    "log6 = log_loss(y_test, pred_prob6)\n",
    "log7 = log_loss(y_test, pred_prob7)\n",
    "\n",
    "print(log1,log2,log3,log4,log6,log7)"
   ]
  },
  {
   "cell_type": "code",
   "execution_count": 32,
   "metadata": {},
   "outputs": [
    {
     "name": "stdout",
     "output_type": "stream",
     "text": [
      "0.842304060434372 0.8404154863078376 0.8630783758262511 0.8659112370160529 0.7592067988668555 0.8810198300283286\n"
     ]
    }
   ],
   "source": [
    "# 7-Specificity\n",
    "\n",
    "# 没有具体的接口计算specificity，但是可以创建confusion matrix，然后通过 TP,Fn,FP,TN这些指标来计算\n",
    "\n",
    "from sklearn.metrics import confusion_matrix\n",
    "\n",
    "# TN = CM[0][0]\n",
    "# FN = CM[1][0]\n",
    "# TP = CM[1][1]\n",
    "# FP = CM[0][1]\n",
    "\n",
    "cm1 = confusion_matrix(y_test,pred1)   # 创建行是真实值，列是预测值\n",
    "cm2 = confusion_matrix(y_test,pred2) \n",
    "cm3 = confusion_matrix(y_test,pred3) \n",
    "cm4 = confusion_matrix(y_test,pred4) \n",
    "# cm5 = confusion_matrix(y_test,pred5)\n",
    "cm6 = confusion_matrix(y_test,pred6)\n",
    "cm7 = confusion_matrix(y_test,pred7)\n",
    "\n",
    "\n",
    "# sensitivity1 = cm1[1,1]/(cm1[1,0]+cm1[1,1])      #特异度 TN/(TN+FP)\n",
    "\n",
    "specificity1 = cm1[0,0]/(cm1[0,0]+cm1[0,1])\n",
    "specificity2 = cm2[0,0]/(cm2[0,0]+cm2[0,1])\n",
    "specificity3 = cm3[0,0]/(cm3[0,0]+cm3[0,1])\n",
    "specificity4 = cm4[0,0]/(cm4[0,0]+cm4[0,1])\n",
    "#specificity5 = cm5[0,0]/(cm5[0,0]+cm5[0,1])\n",
    "specificity6 = cm6[0,0]/(cm6[0,0]+cm6[0,1])\n",
    "specificity7 = cm7[0,0]/(cm7[0,0]+cm7[0,1])\n",
    "\n",
    "\n",
    "print(specificity1,specificity2,specificity3,specificity4,specificity6,specificity7)"
   ]
  },
  {
   "cell_type": "code",
   "execution_count": 33,
   "metadata": {},
   "outputs": [
    {
     "data": {
      "image/png": "[encoded data removed]",
      "text/plain": [
       "<Figure size 432x288 with 2 Axes>"
      ]
     },
     "metadata": {
      "needs_background": "light"
     },
     "output_type": "display_data"
    }
   ],
   "source": [
    "# 8 -confusion matrix\n",
    "from sklearn.metrics import plot_confusion_matrix\n",
    "\n",
    "matrix1 = plot_confusion_matrix(model6, X_test, y_test,\n",
    "                                 cmap=plt.cm.Blues,\n",
    "                                 normalize='true')\n",
    "plt.title('Confusion matrix for our classifier')\n",
    "plt.show(matrix1)\n",
    "plt.show()"
   ]
  },
  {
   "cell_type": "code",
   "execution_count": null,
   "metadata": {},
   "outputs": [],
   "source": []
  },
  {
   "cell_type": "code",
   "execution_count": null,
   "metadata": {},
   "outputs": [],
   "source": []
  },
  {
   "cell_type": "code",
   "execution_count": null,
   "metadata": {},
   "outputs": [],
   "source": []
  },
  {
   "cell_type": "code",
   "execution_count": null,
   "metadata": {},
   "outputs": [],
   "source": []
  },
  {
   "cell_type": "code",
   "execution_count": null,
   "metadata": {},
   "outputs": [],
   "source": []
  },
  {
   "cell_type": "code",
   "execution_count": null,
   "metadata": {},
   "outputs": [],
   "source": []
  }
 ],
 "metadata": {
  "kernelspec": {
   "display_name": "Python 3",
   "language": "python",
   "name": "python3"
  },
  "language_info": {
   "codemirror_mode": {
    "name": "ipython",
    "version": 3
   },
   "file_extension": ".py",
   "mimetype": "text/x-python",
   "name": "python",
   "nbconvert_exporter": "python",
   "pygments_lexer": "ipython3",
   "version": "3.7.3"
  }
 },
 "nbformat": 4,
 "nbformat_minor": 2
}
